{
  "cells": [
    {
      "cell_type": "markdown",
      "metadata": {
        "id": "0ATfcxrTEk9T"
      },
      "source": [
        "- Dataset:  WIDERFACE Dataset   http://shuoyang1213.me/WIDERFACE/index.html\n",
        "WIDER FACE dataset is used for face detection. It includes 32,203 images with 393,703 labeled faces. These faces vary in scale, pose, and degree of concealment. The data is organized into 61 event types, divided into 40% for training, 10% for testing, and 50% for testing.\n",
        "- Model: Yolov5s with Train: 12880 images(40%), Val: 3226 images(10%), Test: (50%)\n",
        "    - Training (use cfg, weights null)\n",
        "        ```python\n",
        "        # Train từ scratch, để img 640, trước để 416\n",
        "        !python train.py --img 640 --batch 16 --epochs 10 \\\n",
        "        --data /content/drive/MyDrive/colab/custom_dataset/custom_dataset.yaml \\\n",
        "        --cfg /content/drive/MyDrive/colab/yolov5/models/yolov5s.yaml \\\n",
        "        --weights '' \\\n",
        "        --name facedet_widerface_cfgyolov5_colab --cache \\\n",
        "        --project Yolov5_FaceDetection\n",
        "\n",
        "        ```\n",
        "\n",
        "    - Processing Training is logged at Wandb, see: https://wandb.ai/doanngoccuong_nh/FaceDetection_Yolov5?workspace=user-doanngoccuong"
      ]
    },
    {
      "cell_type": "code",
      "execution_count": null,
      "metadata": {
        "id": "gDGZ4TIQFQKh"
      },
      "outputs": [],
      "source": [
        "!git clone https://github.com/ultralytics/yolov5.git\n",
        "!cd yolov5 && pwd\n",
        "%cd yolov5\n",
        "!pip install -r requirements.txt"
      ]
    },
    {
      "cell_type": "code",
      "execution_count": null,
      "metadata": {
        "id": "5z5G0R6QE8Y3"
      },
      "outputs": [],
      "source": [
        "# Load best_training model\n",
        "!pip install wandb\n",
        "import wandb\n",
        "run = wandb.init()\n",
        "artifact = run.use_artifact('doanngoccuong_nh/Yolov5_FaceDetection/run_y9gaafqy_model:v0', type='model')\n",
        "artifact_dir = artifact.download()\n",
        "\n",
        "import wandb\n",
        "run = wandb.init()\n",
        "artifact = run.use_artifact('doanngoccuong_nh/FaceDetection_Yolov5/run_wtfobpvn_model:v0', type='model')\n",
        "artifact_dir = artifact.download()\n",
        "\n",
        "run.finish()    # Finish logging to W&B (WandB) immediately after load model succesful.\n",
        "\n",
        "# My API: c8767797aae76cbcd389ff29929ace1ac3021161\n",
        "# link weights_best.pt: /content/yolov5/artifacts/run_y9gaafqy_model:v0/best.pt"
      ]
    },
    {
      "cell_type": "code",
      "execution_count": null,
      "metadata": {
        "id": "asWImS_-GLzm"
      },
      "outputs": [],
      "source": [
        "# import file for test\n",
        "%mkdir /content/real_test\n",
        "%cd /content/real_test\n",
        "from google.colab import files\n",
        "files.upload()"
      ]
    },
    {
      "cell_type": "code",
      "execution_count": null,
      "metadata": {
        "id": "H3uKdVOkF1C3"
      },
      "outputs": [],
      "source": [
        "# Infer real_test\n",
        "# optional:  --img 640 --save-txt --save-conf (resize, save txt, save confident)\n",
        "# optional: --save-csv: predictions.csv (face, conf). --save-crop\n",
        "# OR Crop Detected Face use labels file txt: face_img = image[y1:y2, x1:x2] = image[y_min:y_max, x_min:x_max]\n",
        "\n",
        "%cd /content/yolov5\n",
        "\n",
        "!python detect.py --source /content/real_test \\\n",
        "                  --weights /content/yolov5/artifacts/run_wtfobpvn_model:v0 \\\n",
        "                  --save-txt --save-conf --save-crop --save-csv"
      ]
    },
    {
      "cell_type": "markdown",
      "metadata": {
        "id": "85JkiZ5JT0rU"
      },
      "source": [
        "# ADNet Face Detection and Alignment"
      ]
    },
    {
      "cell_type": "code",
      "execution_count": 1,
      "metadata": {
        "colab": {
          "base_uri": "https://localhost:8080/"
        },
        "id": "ODPwAcLzUJsk",
        "outputId": "346c40b2-0405-4e15-f341-f3c3b53f8f6f"
      },
      "outputs": [
        {
          "name": "stdout",
          "output_type": "stream",
          "text": [
            "/content\n",
            "Cloning into 'FaceAlignment_WFLWds_ADNetwithSTARloss'...\n",
            "remote: Enumerating objects: 120, done.\u001b[K\n",
            "remote: Counting objects: 100% (120/120), done.\u001b[K\n",
            "remote: Compressing objects: 100% (88/88), done.\u001b[K\n",
            "remote: Total 120 (delta 42), reused 104 (delta 26), pack-reused 0\u001b[K\n",
            "Receiving objects: 100% (120/120), 1010.81 KiB | 7.38 MiB/s, done.\n",
            "Resolving deltas: 100% (42/42), done.\n"
          ]
        }
      ],
      "source": [
        "%cd /content/\n",
        "!git clone https://github.com/DoanNgocCuongBKEGNH/FaceAlignment_WFLWds_ADNetwithSTARloss.git --branch WFLWds_ADNetwithSTARLoss\n",
        "!pip install tensorboardX\n",
        "!pip install gradio\n",
        "# pip install -r"
      ]
    },
    {
      "cell_type": "code",
      "execution_count": 7,
      "metadata": {
        "colab": {
          "base_uri": "https://localhost:8080/"
        },
        "id": "_h0AUbxHgafg",
        "outputId": "eeb52b31-0313-4e74-d974-afc4076ae034"
      },
      "outputs": [
        {
          "name": "stdout",
          "output_type": "stream",
          "text": [
            "Collecting tensorboardX\n",
            "  Downloading tensorboardX-2.6.2.2-py2.py3-none-any.whl (101 kB)\n",
            "\u001b[2K     \u001b[90m━━━━━━━━━━━━━━━━━━━━━━━━━━━━━━━━━━━━━━━━\u001b[0m \u001b[32m101.7/101.7 kB\u001b[0m \u001b[31m704.2 kB/s\u001b[0m eta \u001b[36m0:00:00\u001b[0m\n",
            "\u001b[?25hRequirement already satisfied: numpy in /usr/local/lib/python3.10/dist-packages (from tensorboardX) (1.23.5)\n",
            "Requirement already satisfied: packaging in /usr/local/lib/python3.10/dist-packages (from tensorboardX) (23.2)\n",
            "Requirement already satisfied: protobuf>=3.20 in /usr/local/lib/python3.10/dist-packages (from tensorboardX) (3.20.3)\n",
            "Installing collected packages: tensorboardX\n",
            "Successfully installed tensorboardX-2.6.2.2\n"
          ]
        }
      ],
      "source": [
        "!pip install tensorboardX"
      ]
    },
    {
      "cell_type": "code",
      "execution_count": 4,
      "metadata": {
        "colab": {
          "base_uri": "https://localhost:8080/",
          "height": 280
        },
        "id": "pHGj3V_GUbzy",
        "outputId": "5d153d60-001d-456d-bec0-ab5a39abdd19"
      },
      "outputs": [
        {
          "name": "stdout",
          "output_type": "stream",
          "text": [
            "/content\n"
          ]
        },
        {
          "name": "stderr",
          "output_type": "stream",
          "text": [
            "\u001b[34m\u001b[1mwandb\u001b[0m: W&B API key is configured. Use \u001b[1m`wandb login --relogin`\u001b[0m to force relogin\n",
            "\u001b[34m\u001b[1mwandb\u001b[0m: \u001b[33mWARNING\u001b[0m If you're specifying your api key in code, ensure this code is not shared publicly.\n",
            "\u001b[34m\u001b[1mwandb\u001b[0m: \u001b[33mWARNING\u001b[0m Consider setting the WANDB_API_KEY environment variable, or running `wandb login` from the command line.\n",
            "\u001b[34m\u001b[1mwandb\u001b[0m: Appending key for api.wandb.ai to your netrc file: /root/.netrc\n",
            "\u001b[34m\u001b[1mwandb\u001b[0m: Currently logged in as: \u001b[33mdoanngoccuong\u001b[0m (\u001b[33mdoanngoccuong_nh\u001b[0m). Use \u001b[1m`wandb login --relogin`\u001b[0m to force relogin\n"
          ]
        },
        {
          "data": {
            "text/html": [
              "Tracking run with wandb version 0.16.1"
            ],
            "text/plain": [
              "<IPython.core.display.HTML object>"
            ]
          },
          "metadata": {},
          "output_type": "display_data"
        },
        {
          "data": {
            "text/html": [
              "Run data is saved locally in <code>/content/wandb/run-20240105_164233-1lin725y</code>"
            ],
            "text/plain": [
              "<IPython.core.display.HTML object>"
            ]
          },
          "metadata": {},
          "output_type": "display_data"
        },
        {
          "data": {
            "text/html": [
              "Syncing run <strong><a href='https://wandb.ai/doanngoccuong_nh/uncategorized/runs/1lin725y' target=\"_blank\">zany-haze-9</a></strong> to <a href='https://wandb.ai/doanngoccuong_nh/uncategorized' target=\"_blank\">Weights & Biases</a> (<a href='https://wandb.me/run' target=\"_blank\">docs</a>)<br/>"
            ],
            "text/plain": [
              "<IPython.core.display.HTML object>"
            ]
          },
          "metadata": {},
          "output_type": "display_data"
        },
        {
          "data": {
            "text/html": [
              " View project at <a href='https://wandb.ai/doanngoccuong_nh/uncategorized' target=\"_blank\">https://wandb.ai/doanngoccuong_nh/uncategorized</a>"
            ],
            "text/plain": [
              "<IPython.core.display.HTML object>"
            ]
          },
          "metadata": {},
          "output_type": "display_data"
        },
        {
          "data": {
            "text/html": [
              " View run at <a href='https://wandb.ai/doanngoccuong_nh/uncategorized/runs/1lin725y' target=\"_blank\">https://wandb.ai/doanngoccuong_nh/uncategorized/runs/1lin725y</a>"
            ],
            "text/plain": [
              "<IPython.core.display.HTML object>"
            ]
          },
          "metadata": {},
          "output_type": "display_data"
        },
        {
          "name": "stderr",
          "output_type": "stream",
          "text": [
            "\u001b[34m\u001b[1mwandb\u001b[0m: Downloading large artifact ADNetSTARLoss_bestmodel:v0, 235.93MB. 1 files... \n",
            "\u001b[34m\u001b[1mwandb\u001b[0m:   1 of 1 files downloaded.  \n",
            "Done. 0:0:2.8\n"
          ]
        }
      ],
      "source": [
        "%cd /content\n",
        "import wandb\n",
        "wandb.login(key = \"c8767797aae76cbcd389ff29929ace1ac3021161\")    # key's DoanNgocCuong\n",
        "run = wandb.init()\n",
        "artifact = run.use_artifact('doanngoccuong_nh/FaceAlignment_ADNetwithSTARloss/ADNetSTARLoss_bestmodel:v0', type='model')\n",
        "artifact_dir = artifact.download()\n",
        "\n"
      ]
    },
    {
      "cell_type": "code",
      "execution_count": 10,
      "metadata": {
        "colab": {
          "base_uri": "https://localhost:8080/"
        },
        "id": "T5aYt7ZuUatl",
        "outputId": "fba5a871-4baf-4cd0-dda3-d59adc2b2f58"
      },
      "outputs": [
        {
          "name": "stdout",
          "output_type": "stream",
          "text": [
            "/content/FaceAlignment_WFLWds_ADNetwithSTARloss\n",
            "/usr/local/lib/python3.10/dist-packages/torch/__init__.py:614: UserWarning: torch.set_default_tensor_type() is deprecated as of PyTorch 2.1, please use torch.set_default_dtype() and torch.set_default_device() as alternatives. (Triggered internally at ../torch/csrc/tensor/python_tensor.cpp:451.)\n",
            "  _C._set_default_tensor_type(t)\n",
            "2024-01-05 16:55:31,244 INFO    : Loaded configure file alignment: 00820b7e-04a3-4003-8bb5-ff4d40aa6e40\n",
            "2024-01-05 16:55:31,244 INFO    : \n",
            "type: alignment\n",
            "id: 00820b7e-04a3-4003-8bb5-ff4d40aa6e40\n",
            "note: \n",
            "ckpt_dir: /apdcephfs_cq3/share_1134483/charlinzhou/ckpts/STAR/\n",
            "image_dir: ./WFLW/WFLW_images\n",
            "annot_dir: ./\n",
            "loader_type: alignment\n",
            "loss_func: STARLoss_v2\n",
            "batch_size: 32\n",
            "val_batch_size: 32\n",
            "test_batch_size: 16\n",
            "channels: 3\n",
            "width: 256\n",
            "height: 256\n",
            "means: (127.5, 127.5, 127.5)\n",
            "scale: 0.00784313725490196\n",
            "display_iteration: 10\n",
            "milestones: [200, 350, 450]\n",
            "max_epoch: 500\n",
            "net: stackedHGnet_v1\n",
            "nstack: 4\n",
            "optimizer: adam\n",
            "learn_rate: 0.001\n",
            "momentum: 0.01\n",
            "weight_decay: 1e-05\n",
            "nesterov: False\n",
            "scheduler: MultiStepLR\n",
            "gamma: 0.1\n",
            "loss_weights: [0.125, 1.25, 1.25, 0.25, 2.5, 2.5, 0.5, 5.0, 5.0, 1.0, 10.0, 10.0]\n",
            "criterions: ['STARLoss_v2', 'AWingLoss', 'AWingLoss', 'STARLoss_v2', 'AWingLoss', 'AWingLoss', 'STARLoss_v2', 'AWingLoss', 'AWingLoss', 'STARLoss_v2', 'AWingLoss', 'AWingLoss']\n",
            "metrics: ['NME', None, None, 'NME', None, None, 'NME', None, None, 'NME', None, None]\n",
            "key_metric_index: 9\n",
            "classes_num: [98, 9, 98]\n",
            "label_num: 12\n",
            "ema: True\n",
            "use_AAM: True\n",
            "writer: <tensorboardX.writer.SummaryWriter object at 0x7878589fdcc0>\n",
            "logger: <RootLogger root (NOTSET)>\n",
            "data_definition: WFLW\n",
            "test_file: test.tsv\n",
            "aug_prob: 1.0\n",
            "val_epoch: 1\n",
            "valset: test.tsv\n",
            "norm_type: default\n",
            "encoder_type: default\n",
            "decoder_type: default\n",
            "betas: [0.9, 0.999]\n",
            "train_num_workers: 16\n",
            "val_num_workers: 16\n",
            "test_num_workers: 0\n",
            "add_coord: True\n",
            "star_w: 1\n",
            "star_dist: smoothl1\n",
            "edge_info: ((False, (0, 1, 2, 3, 4, 5, 6, 7, 8, 9, 10, 11, 12, 13, 14, 15, 16, 17, 18, 19, 20, 21, 22, 23, 24, 25, 26, 27, 28, 29, 30, 31, 32)), (True, (33, 34, 35, 36, 37, 38, 39, 40, 41)), (True, (42, 43, 44, 45, 46, 47, 48, 49, 50)), (False, (51, 52, 53, 54)), (False, (55, 56, 57, 58, 59)), (True, (60, 61, 62, 63, 64, 65, 66, 67)), (True, (68, 69, 70, 71, 72, 73, 74, 75)), (True, (76, 77, 78, 79, 80, 81, 82, 83, 84, 85, 86, 87)), (True, (88, 89, 90, 91, 92, 93, 94, 95)))\n",
            "nme_left_index: 60\n",
            "nme_right_index: 72\n",
            "crop_op: True\n",
            "flip_mapping: ([0, 32], [1, 31], [2, 30], [3, 29], [4, 28], [5, 27], [6, 26], [7, 25], [8, 24], [9, 23], [10, 22], [11, 21], [12, 20], [13, 19], [14, 18], [15, 17], [33, 46], [34, 45], [35, 44], [36, 43], [37, 42], [38, 50], [39, 49], [40, 48], [41, 47], [60, 72], [61, 71], [62, 70], [63, 69], [64, 68], [65, 75], [66, 74], [67, 73], [55, 59], [56, 58], [76, 82], [77, 81], [78, 80], [87, 83], [86, 84], [88, 92], [89, 91], [95, 93], [96, 97])\n",
            "folder: WFLW_256x256_adam_ep500_lr0.001_bs32_STARLoss_v2_AAM_00820b7e-04a3-4003-8bb5-ff4d40aa6e40\n",
            "work_dir: /apdcephfs_cq3/share_1134483/charlinzhou/ckpts/STAR/WFLW/WFLW_256x256_adam_ep500_lr0.001_bs32_STARLoss_v2_AAM_00820b7e-04a3-4003-8bb5-ff4d40aa6e40\n",
            "model_dir: /apdcephfs_cq3/share_1134483/charlinzhou/ckpts/STAR/WFLW/WFLW_256x256_adam_ep500_lr0.001_bs32_STARLoss_v2_AAM_00820b7e-04a3-4003-8bb5-ff4d40aa6e40/model\n",
            "log_dir: /apdcephfs_cq3/share_1134483/charlinzhou/ckpts/STAR/WFLW/WFLW_256x256_adam_ep500_lr0.001_bs32_STARLoss_v2_AAM_00820b7e-04a3-4003-8bb5-ff4d40aa6e40/log\n",
            "train_tsv_file: ./WFLW/train.tsv\n",
            "train_pic_dir: ./WFLW/WFLW_images\n",
            "val_tsv_file: ./WFLW/test.tsv\n",
            "val_pic_dir: ./WFLW/WFLW_images\n",
            "test_tsv_file: ./WFLW/test.tsv\n",
            "test_pic_dir: ./WFLW/WFLW_images\n",
            "device_id: 0\n",
            "device: cuda:0\n",
            "use_gpu: True\n",
            "/usr/local/lib/python3.10/dist-packages/torch/functional.py:504: UserWarning: torch.meshgrid: in an upcoming release, it will be required to pass the indexing argument. (Triggered internally at ../aten/src/ATen/native/TensorShape.cpp:3526.)\n",
            "  return _VF.meshgrid(tensors, **kwargs)  # type: ignore[attr-defined]\n",
            "2024-01-05 16:55:35,233 DEBUG   : Loaded backend module://ipykernel.pylab.backend_inline version unknown.\n",
            "2024-01-05 16:55:35,236 DEBUG   : findfont: Matching sans\\-serif:style=normal:variant=normal:weight=normal:stretch=normal:size=10.0.\n",
            "2024-01-05 16:55:35,237 DEBUG   : findfont: score(FontEntry(fname='/usr/local/lib/python3.10/dist-packages/matplotlib/mpl-data/fonts/ttf/DejaVuSansMono-Oblique.ttf', name='DejaVu Sans Mono', style='oblique', variant='normal', weight=400, stretch='normal', size='scalable')) = 11.05\n",
            "2024-01-05 16:55:35,237 DEBUG   : findfont: score(FontEntry(fname='/usr/local/lib/python3.10/dist-packages/matplotlib/mpl-data/fonts/ttf/STIXSizOneSymBol.ttf', name='STIXSizeOneSym', style='normal', variant='normal', weight=700, stretch='normal', size='scalable')) = 10.335\n",
            "2024-01-05 16:55:35,237 DEBUG   : findfont: score(FontEntry(fname='/usr/local/lib/python3.10/dist-packages/matplotlib/mpl-data/fonts/ttf/DejaVuSerif.ttf', name='DejaVu Serif', style='normal', variant='normal', weight=400, stretch='normal', size='scalable')) = 10.05\n",
            "2024-01-05 16:55:35,237 DEBUG   : findfont: score(FontEntry(fname='/usr/local/lib/python3.10/dist-packages/matplotlib/mpl-data/fonts/ttf/cmss10.ttf', name='cmss10', style='normal', variant='normal', weight=400, stretch='normal', size='scalable')) = 10.05\n",
            "2024-01-05 16:55:35,237 DEBUG   : findfont: score(FontEntry(fname='/usr/local/lib/python3.10/dist-packages/matplotlib/mpl-data/fonts/ttf/cmsy10.ttf', name='cmsy10', style='normal', variant='normal', weight=400, stretch='normal', size='scalable')) = 10.05\n",
            "2024-01-05 16:55:35,237 DEBUG   : findfont: score(FontEntry(fname='/usr/local/lib/python3.10/dist-packages/matplotlib/mpl-data/fonts/ttf/DejaVuSansDisplay.ttf', name='DejaVu Sans Display', style='normal', variant='normal', weight=400, stretch='normal', size='scalable')) = 10.05\n",
            "2024-01-05 16:55:35,237 DEBUG   : findfont: score(FontEntry(fname='/usr/local/lib/python3.10/dist-packages/matplotlib/mpl-data/fonts/ttf/DejaVuSans-BoldOblique.ttf', name='DejaVu Sans', style='oblique', variant='normal', weight=700, stretch='normal', size='scalable')) = 1.335\n",
            "2024-01-05 16:55:35,238 DEBUG   : findfont: score(FontEntry(fname='/usr/local/lib/python3.10/dist-packages/matplotlib/mpl-data/fonts/ttf/STIXSizThreeSymReg.ttf', name='STIXSizeThreeSym', style='normal', variant='normal', weight=400, stretch='normal', size='scalable')) = 10.05\n",
            "2024-01-05 16:55:35,238 DEBUG   : findfont: score(FontEntry(fname='/usr/local/lib/python3.10/dist-packages/matplotlib/mpl-data/fonts/ttf/STIXNonUniBolIta.ttf', name='STIXNonUnicode', style='italic', variant='normal', weight=700, stretch='normal', size='scalable')) = 11.335\n",
            "2024-01-05 16:55:35,238 DEBUG   : findfont: score(FontEntry(fname='/usr/local/lib/python3.10/dist-packages/matplotlib/mpl-data/fonts/ttf/STIXGeneralItalic.ttf', name='STIXGeneral', style='italic', variant='normal', weight=400, stretch='normal', size='scalable')) = 11.05\n",
            "2024-01-05 16:55:35,238 DEBUG   : findfont: score(FontEntry(fname='/usr/local/lib/python3.10/dist-packages/matplotlib/mpl-data/fonts/ttf/DejaVuSans.ttf', name='DejaVu Sans', style='normal', variant='normal', weight=400, stretch='normal', size='scalable')) = 0.05\n",
            "2024-01-05 16:55:35,238 DEBUG   : findfont: score(FontEntry(fname='/usr/local/lib/python3.10/dist-packages/matplotlib/mpl-data/fonts/ttf/cmtt10.ttf', name='cmtt10', style='normal', variant='normal', weight=400, stretch='normal', size='scalable')) = 10.05\n",
            "2024-01-05 16:55:35,238 DEBUG   : findfont: score(FontEntry(fname='/usr/local/lib/python3.10/dist-packages/matplotlib/mpl-data/fonts/ttf/STIXGeneralBol.ttf', name='STIXGeneral', style='normal', variant='normal', weight=700, stretch='normal', size='scalable')) = 10.335\n",
            "2024-01-05 16:55:35,238 DEBUG   : findfont: score(FontEntry(fname='/usr/local/lib/python3.10/dist-packages/matplotlib/mpl-data/fonts/ttf/cmb10.ttf', name='cmb10', style='normal', variant='normal', weight=400, stretch='normal', size='scalable')) = 10.05\n",
            "2024-01-05 16:55:35,238 DEBUG   : findfont: score(FontEntry(fname='/usr/local/lib/python3.10/dist-packages/matplotlib/mpl-data/fonts/ttf/DejaVuSerif-Italic.ttf', name='DejaVu Serif', style='italic', variant='normal', weight=400, stretch='normal', size='scalable')) = 11.05\n",
            "2024-01-05 16:55:35,238 DEBUG   : findfont: score(FontEntry(fname='/usr/local/lib/python3.10/dist-packages/matplotlib/mpl-data/fonts/ttf/DejaVuSansMono-BoldOblique.ttf', name='DejaVu Sans Mono', style='oblique', variant='normal', weight=700, stretch='normal', size='scalable')) = 11.335\n",
            "2024-01-05 16:55:35,238 DEBUG   : findfont: score(FontEntry(fname='/usr/local/lib/python3.10/dist-packages/matplotlib/mpl-data/fonts/ttf/STIXSizFourSymBol.ttf', name='STIXSizeFourSym', style='normal', variant='normal', weight=700, stretch='normal', size='scalable')) = 10.335\n",
            "2024-01-05 16:55:35,239 DEBUG   : findfont: score(FontEntry(fname='/usr/local/lib/python3.10/dist-packages/matplotlib/mpl-data/fonts/ttf/STIXGeneral.ttf', name='STIXGeneral', style='normal', variant='normal', weight=400, stretch='normal', size='scalable')) = 10.05\n",
            "2024-01-05 16:55:35,239 DEBUG   : findfont: score(FontEntry(fname='/usr/local/lib/python3.10/dist-packages/matplotlib/mpl-data/fonts/ttf/STIXSizTwoSymReg.ttf', name='STIXSizeTwoSym', style='normal', variant='normal', weight=400, stretch='normal', size='scalable')) = 10.05\n",
            "2024-01-05 16:55:35,239 DEBUG   : findfont: score(FontEntry(fname='/usr/local/lib/python3.10/dist-packages/matplotlib/mpl-data/fonts/ttf/STIXSizThreeSymBol.ttf', name='STIXSizeThreeSym', style='normal', variant='normal', weight=700, stretch='normal', size='scalable')) = 10.335\n",
            "2024-01-05 16:55:35,239 DEBUG   : findfont: score(FontEntry(fname='/usr/local/lib/python3.10/dist-packages/matplotlib/mpl-data/fonts/ttf/STIXSizFiveSymReg.ttf', name='STIXSizeFiveSym', style='normal', variant='normal', weight=400, stretch='normal', size='scalable')) = 10.05\n",
            "2024-01-05 16:55:35,239 DEBUG   : findfont: score(FontEntry(fname='/usr/local/lib/python3.10/dist-packages/matplotlib/mpl-data/fonts/ttf/STIXGeneralBolIta.ttf', name='STIXGeneral', style='italic', variant='normal', weight=700, stretch='normal', size='scalable')) = 11.335\n",
            "2024-01-05 16:55:35,239 DEBUG   : findfont: score(FontEntry(fname='/usr/local/lib/python3.10/dist-packages/matplotlib/mpl-data/fonts/ttf/DejaVuSans-Oblique.ttf', name='DejaVu Sans', style='oblique', variant='normal', weight=400, stretch='normal', size='scalable')) = 1.05\n",
            "2024-01-05 16:55:35,239 DEBUG   : findfont: score(FontEntry(fname='/usr/local/lib/python3.10/dist-packages/matplotlib/mpl-data/fonts/ttf/STIXSizOneSymReg.ttf', name='STIXSizeOneSym', style='normal', variant='normal', weight=400, stretch='normal', size='scalable')) = 10.05\n",
            "2024-01-05 16:55:35,239 DEBUG   : findfont: score(FontEntry(fname='/usr/local/lib/python3.10/dist-packages/matplotlib/mpl-data/fonts/ttf/DejaVuSerif-BoldItalic.ttf', name='DejaVu Serif', style='italic', variant='normal', weight=700, stretch='normal', size='scalable')) = 11.335\n",
            "2024-01-05 16:55:35,239 DEBUG   : findfont: score(FontEntry(fname='/usr/local/lib/python3.10/dist-packages/matplotlib/mpl-data/fonts/ttf/cmex10.ttf', name='cmex10', style='normal', variant='normal', weight=400, stretch='normal', size='scalable')) = 10.05\n",
            "2024-01-05 16:55:35,240 DEBUG   : findfont: score(FontEntry(fname='/usr/local/lib/python3.10/dist-packages/matplotlib/mpl-data/fonts/ttf/cmr10.ttf', name='cmr10', style='normal', variant='normal', weight=400, stretch='normal', size='scalable')) = 10.05\n",
            "2024-01-05 16:55:35,240 DEBUG   : findfont: score(FontEntry(fname='/usr/local/lib/python3.10/dist-packages/matplotlib/mpl-data/fonts/ttf/DejaVuSansMono.ttf', name='DejaVu Sans Mono', style='normal', variant='normal', weight=400, stretch='normal', size='scalable')) = 10.05\n",
            "2024-01-05 16:55:35,240 DEBUG   : findfont: score(FontEntry(fname='/usr/local/lib/python3.10/dist-packages/matplotlib/mpl-data/fonts/ttf/DejaVuSans-Bold.ttf', name='DejaVu Sans', style='normal', variant='normal', weight=700, stretch='normal', size='scalable')) = 0.33499999999999996\n",
            "2024-01-05 16:55:35,240 DEBUG   : findfont: score(FontEntry(fname='/usr/local/lib/python3.10/dist-packages/matplotlib/mpl-data/fonts/ttf/STIXNonUni.ttf', name='STIXNonUnicode', style='normal', variant='normal', weight=400, stretch='normal', size='scalable')) = 10.05\n",
            "2024-01-05 16:55:35,240 DEBUG   : findfont: score(FontEntry(fname='/usr/local/lib/python3.10/dist-packages/matplotlib/mpl-data/fonts/ttf/DejaVuSerif-Bold.ttf', name='DejaVu Serif', style='normal', variant='normal', weight=700, stretch='normal', size='scalable')) = 10.335\n",
            "2024-01-05 16:55:35,240 DEBUG   : findfont: score(FontEntry(fname='/usr/local/lib/python3.10/dist-packages/matplotlib/mpl-data/fonts/ttf/STIXNonUniIta.ttf', name='STIXNonUnicode', style='italic', variant='normal', weight=400, stretch='normal', size='scalable')) = 11.05\n",
            "2024-01-05 16:55:35,240 DEBUG   : findfont: score(FontEntry(fname='/usr/local/lib/python3.10/dist-packages/matplotlib/mpl-data/fonts/ttf/DejaVuSerifDisplay.ttf', name='DejaVu Serif Display', style='normal', variant='normal', weight=400, stretch='normal', size='scalable')) = 10.05\n",
            "2024-01-05 16:55:35,240 DEBUG   : findfont: score(FontEntry(fname='/usr/local/lib/python3.10/dist-packages/matplotlib/mpl-data/fonts/ttf/STIXSizFourSymReg.ttf', name='STIXSizeFourSym', style='normal', variant='normal', weight=400, stretch='normal', size='scalable')) = 10.05\n",
            "2024-01-05 16:55:35,240 DEBUG   : findfont: score(FontEntry(fname='/usr/local/lib/python3.10/dist-packages/matplotlib/mpl-data/fonts/ttf/STIXSizTwoSymBol.ttf', name='STIXSizeTwoSym', style='normal', variant='normal', weight=700, stretch='normal', size='scalable')) = 10.335\n",
            "2024-01-05 16:55:35,241 DEBUG   : findfont: score(FontEntry(fname='/usr/local/lib/python3.10/dist-packages/matplotlib/mpl-data/fonts/ttf/cmmi10.ttf', name='cmmi10', style='normal', variant='normal', weight=400, stretch='normal', size='scalable')) = 10.05\n",
            "2024-01-05 16:55:35,241 DEBUG   : findfont: score(FontEntry(fname='/usr/local/lib/python3.10/dist-packages/matplotlib/mpl-data/fonts/ttf/DejaVuSansMono-Bold.ttf', name='DejaVu Sans Mono', style='normal', variant='normal', weight=700, stretch='normal', size='scalable')) = 10.335\n",
            "2024-01-05 16:55:35,241 DEBUG   : findfont: score(FontEntry(fname='/usr/local/lib/python3.10/dist-packages/matplotlib/mpl-data/fonts/ttf/STIXNonUniBol.ttf', name='STIXNonUnicode', style='normal', variant='normal', weight=700, stretch='normal', size='scalable')) = 10.335\n",
            "2024-01-05 16:55:35,241 DEBUG   : findfont: score(FontEntry(fname='/usr/share/fonts/truetype/liberation/LiberationSansNarrow-Italic.ttf', name='Liberation Sans Narrow', style='italic', variant='normal', weight=400, stretch='condensed', size='scalable')) = 11.25\n",
            "2024-01-05 16:55:35,241 DEBUG   : findfont: score(FontEntry(fname='/usr/share/fonts/truetype/liberation/LiberationMono-Regular.ttf', name='Liberation Mono', style='normal', variant='normal', weight=400, stretch='normal', size='scalable')) = 10.05\n",
            "2024-01-05 16:55:35,241 DEBUG   : findfont: score(FontEntry(fname='/usr/share/fonts/truetype/liberation/LiberationMono-Bold.ttf', name='Liberation Mono', style='normal', variant='normal', weight=700, stretch='normal', size='scalable')) = 10.335\n",
            "2024-01-05 16:55:35,241 DEBUG   : findfont: score(FontEntry(fname='/usr/share/fonts/truetype/liberation/LiberationSansNarrow-Bold.ttf', name='Liberation Sans Narrow', style='normal', variant='normal', weight=700, stretch='condensed', size='scalable')) = 10.535\n",
            "2024-01-05 16:55:35,241 DEBUG   : findfont: score(FontEntry(fname='/usr/share/fonts/truetype/liberation/LiberationSerif-Regular.ttf', name='Liberation Serif', style='normal', variant='normal', weight=400, stretch='normal', size='scalable')) = 10.05\n",
            "2024-01-05 16:55:35,241 DEBUG   : findfont: score(FontEntry(fname='/usr/share/fonts/truetype/liberation/LiberationMono-Italic.ttf', name='Liberation Mono', style='italic', variant='normal', weight=400, stretch='normal', size='scalable')) = 11.05\n",
            "2024-01-05 16:55:35,242 DEBUG   : findfont: score(FontEntry(fname='/usr/share/fonts/truetype/liberation/LiberationMono-BoldItalic.ttf', name='Liberation Mono', style='italic', variant='normal', weight=700, stretch='normal', size='scalable')) = 11.335\n",
            "2024-01-05 16:55:35,242 DEBUG   : findfont: score(FontEntry(fname='/usr/share/fonts/truetype/liberation/LiberationSans-BoldItalic.ttf', name='Liberation Sans', style='italic', variant='normal', weight=700, stretch='normal', size='scalable')) = 11.335\n",
            "2024-01-05 16:55:35,242 DEBUG   : findfont: score(FontEntry(fname='/usr/share/fonts/truetype/liberation/LiberationSerif-Italic.ttf', name='Liberation Serif', style='italic', variant='normal', weight=400, stretch='normal', size='scalable')) = 11.05\n",
            "2024-01-05 16:55:35,242 DEBUG   : findfont: score(FontEntry(fname='/usr/share/fonts/truetype/liberation/LiberationSans-Regular.ttf', name='Liberation Sans', style='normal', variant='normal', weight=400, stretch='normal', size='scalable')) = 10.05\n",
            "2024-01-05 16:55:35,242 DEBUG   : findfont: score(FontEntry(fname='/usr/share/fonts/truetype/liberation/LiberationSans-Italic.ttf', name='Liberation Sans', style='italic', variant='normal', weight=400, stretch='normal', size='scalable')) = 11.05\n",
            "2024-01-05 16:55:35,242 DEBUG   : findfont: score(FontEntry(fname='/usr/share/fonts/truetype/humor-sans/Humor-Sans.ttf', name='Humor Sans', style='normal', variant='normal', weight=400, stretch='normal', size='scalable')) = 10.05\n",
            "2024-01-05 16:55:35,242 DEBUG   : findfont: score(FontEntry(fname='/usr/share/fonts/truetype/liberation/LiberationSerif-BoldItalic.ttf', name='Liberation Serif', style='italic', variant='normal', weight=700, stretch='normal', size='scalable')) = 11.335\n",
            "2024-01-05 16:55:35,242 DEBUG   : findfont: score(FontEntry(fname='/usr/share/fonts/truetype/liberation/LiberationSansNarrow-Regular.ttf', name='Liberation Sans Narrow', style='normal', variant='normal', weight=400, stretch='condensed', size='scalable')) = 10.25\n",
            "2024-01-05 16:55:35,242 DEBUG   : findfont: score(FontEntry(fname='/usr/share/fonts/truetype/liberation/LiberationSans-Bold.ttf', name='Liberation Sans', style='normal', variant='normal', weight=700, stretch='normal', size='scalable')) = 10.335\n",
            "2024-01-05 16:55:35,242 DEBUG   : findfont: score(FontEntry(fname='/usr/share/fonts/truetype/liberation/LiberationSansNarrow-BoldItalic.ttf', name='Liberation Sans Narrow', style='italic', variant='normal', weight=700, stretch='condensed', size='scalable')) = 11.535\n",
            "2024-01-05 16:55:35,243 DEBUG   : findfont: score(FontEntry(fname='/usr/share/fonts/truetype/liberation/LiberationSerif-Bold.ttf', name='Liberation Serif', style='normal', variant='normal', weight=700, stretch='normal', size='scalable')) = 10.335\n",
            "2024-01-05 16:55:35,243 DEBUG   : findfont: Matching sans\\-serif:style=normal:variant=normal:weight=normal:stretch=normal:size=10.0 to DejaVu Sans ('/usr/local/lib/python3.10/dist-packages/matplotlib/mpl-data/fonts/ttf/DejaVuSans.ttf') with score of 0.050000.\n",
            "Figure(640x480)\n",
            "Image saved to /content/wandb/output_image.jpg\n",
            "Landmarks saved to /content/wandb/landmarks.txt\n"
          ]
        }
      ],
      "source": [
        "%cd /content/FaceAlignment_WFLWds_ADNetwithSTARloss\n",
        "!python demo.py"
      ]
    }
  ],
  "metadata": {
    "accelerator": "GPU",
    "colab": {
      "gpuType": "T4",
      "provenance": []
    },
    "kernelspec": {
      "display_name": "Python 3",
      "name": "python3"
    },
    "language_info": {
      "name": "python"
    }
  },
  "nbformat": 4,
  "nbformat_minor": 0
}
