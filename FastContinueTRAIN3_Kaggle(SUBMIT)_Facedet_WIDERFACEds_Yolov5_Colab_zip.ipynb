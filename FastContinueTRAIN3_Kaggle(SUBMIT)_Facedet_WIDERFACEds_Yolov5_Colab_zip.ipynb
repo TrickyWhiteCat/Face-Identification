{
  "cells": [
    {
      "cell_type": "markdown",
      "metadata": {
        "id": "uoA3pFRZxzH2"
      },
      "source": [
        "# ***0. CONNECT GGDRIVE***  - for data processing"
      ]
    },
    {
      "cell_type": "markdown",
      "metadata": {
        "id": "hU4fWdgmxxBJ"
      },
      "source": [
        "# ***1. Load Dataset - EDA - Processing Yolov5***"
      ]
    },
    {
      "cell_type": "markdown",
      "metadata": {},
      "source": [
        "## 1.3 Processing: Train - Val - Test for Yolov5s"
      ]
    },
    {
      "cell_type": "markdown",
      "metadata": {},
      "source": [
        "### 1.3.1 Reference structure of Yolov5s:\n"
      ]
    },
    {
      "cell_type": "markdown",
      "metadata": {},
      "source": [
        "\n",
        "- https://github.com/deepakat002/yolov5_facemask\n",
        "- https://www.pandaml.com/train-yolov5/\n",
        "- https://www.kaggle.com/datasets/deepakat002/face-mask-detection-yolov5\n",
        "\n",
        "\n",
        "```\n",
        "yolov5\n",
        "custom_dataset\n",
        "├── custom_dataset.yaml\n",
        "├── custom_model.yaml\n",
        "└── images_and_labels\n",
        "```\n",
        "\n",
        "```\n",
        "images_and_labels\n",
        "├── images\n",
        "│   ├── train\n",
        "│   │   ├── train_001.jpg\n",
        "│   │   ├── train_002.jpg\n",
        "│   │   └── ...\n",
        "│   ├── valid\n",
        "│   │   ├── valid_001.jpg\n",
        "│   │   ├── valid_002.jpg\n",
        "│   │   └── ...\n",
        "│   └── test\n",
        "│       ├── test_001.jpg\n",
        "│       ├── test_002.jpg\n",
        "│       └── ...\n",
        "└── labels\n",
        "  ├── train\n",
        "  │   ├── train_001.txt\n",
        "  │   ├── train_002.txt\n",
        "  │   └── ...\n",
        "  └── valid\n",
        "      ├── valid_001.txt\n",
        "      ├── valid_002.txt\n",
        "      └── ...\n",
        "```\n",
        "hoặc (đã test và không hoạt đông)\n",
        "```\n",
        "images_and_labels\n",
        "├── train\n",
        "│   ├── images\n",
        "│   │   ├── train_001.jpg\n",
        "│   │   ├── train_002.jpg\n",
        "│   │   └── ...\n",
        "│    ── labels\n",
        "│       ├── train_001.txt\n",
        "│       ├── train_002.txt\n",
        "│       └── ...                \n",
        "└── val\n",
        "  ├── images\n",
        "  │   ├── valid_001.jpg\n",
        "  │   ├── valid_002.jpg\n",
        "  │   └── ...\n",
        "  └── labels\n",
        "      ├── valid_001.txt\n",
        "      ├── valid_002.txt\n",
        "      └── ...\n",
        "```"
      ]
    },
    {
      "cell_type": "markdown",
      "metadata": {
        "id": "p48WBc4BxfhM"
      },
      "source": [
        "# ***1'. Download the kaggle dataset THAT I PROCESSED IN THE PREVIOUS STEP AND UPLOAD TO KAGGLE***\n",
        "- https://www.kaggle.com/datasets/cngonngc/facedetection-widerfacedataset-yolov5-zip\n",
        "- Dataset upload Drive is also quite convenient, but the synchronization speed is slow when switching between different accounts to use free GPU.-> ZIP FILE to upload to Kaggle dataset, downloading is more convenient when using.\n"
      ]
    },
    {
      "cell_type": "markdown",
      "metadata": {
        "id": "TlcopTIsxlOz"
      },
      "source": [
        "# ***2. Model: Yolov5s***"
      ]
    },
    {
      "cell_type": "markdown",
      "metadata": {
        "id": "WAvZ1IRJxtDf"
      },
      "source": [
        "## ***2.1 SETUP YOLOV5S MODEL AND PREOCESSING PRETRAINING***"
      ]
    },
    {
      "cell_type": "markdown",
      "metadata": {
        "id": "PvJdlN_sxsKQ"
      },
      "source": [
        "## ***2.2 TRAINING YOLOV5 (same PaddleOCR use)*** with command line training - shell script training\n",
        "\n",
        "- This command includes parameters for training configuration, such as image size, number of epochs, paths to data and model configuration files, initial weights, training process name, and other options.\n",
        "    - Using a Pretrained Weight File (weights):\n",
        "    The model's weights are adjusted during the training process on your custom dataset. This approach is often used for transfer learning, where the pretrained model has already learned features from a large and diverse dataset.\n",
        "    - Using a Configuration File Without Pretrained Weights (cfg, null weights):\n",
        "    which defines the architecture of the model but does not use pretrained weights. The model will be trained from scratch on your custom dataset.\n",
        "\n",
        "    -- cache: load data vào train.cache ở RAM, tối ưu việc train.\n",
        "    -- project (log with local/wandb) is project: FaceDetection_Yolov5 trong wandb,\n",
        "    -- name: is name các lần run. (lưu local/wandb)\n",
        "    -- entity: doanngoccuong_nh (tên hiển thị trong wandb) hoặc local là tên tác giả\n",
        "    --save-period: Determines how often (in terms of epochs) the model checkpoints are saved. If less than 1, this feature is disabled.\n",
        "    \n",
        "```python\n",
        "# train.py\n",
        "    # Logger arguments\n",
        "    parser.add_argument('--entity', default=None, help='Entity')\n",
        "    parser.add_argument('--upload_dataset', nargs='?', const=True, default=False, help='Upload data, \"val\" option')\n",
        "    parser.add_argument('--bbox_interval', type=int, default=-1, help='Set bounding-box image logging interval')\n",
        "    parser.add_argument('--artifact_alias', type=str, default='latest', help='Version of dataset artifact to use')\n",
        "    \n",
        "```"
      ]
    },
    {
      "cell_type": "code",
      "execution_count": null,
      "metadata": {
        "_cell_guid": "b1076dfc-b9ad-4769-8c92-a6c4dae69d19",
        "_uuid": "8f2839f25d086af736a60e9eeb907d3b93b6e0e5",
        "execution": {
          "iopub.execute_input": "2024-01-05T20:59:44.894467Z",
          "iopub.status.busy": "2024-01-05T20:59:44.894107Z",
          "iopub.status.idle": "2024-01-05T20:59:58.862900Z",
          "shell.execute_reply": "2024-01-05T20:59:58.861777Z",
          "shell.execute_reply.started": "2024-01-05T20:59:44.894436Z"
        },
        "id": "D9FwkbFDwpgp",
        "outputId": "01181291-7a73-4680-9918-86d130af2063",
        "trusted": true
      },
      "outputs": [
        {
          "name": "stdout",
          "output_type": "stream",
          "text": [
            "Requirement already satisfied: gitpython>=3.1.30 in /opt/conda/lib/python3.10/site-packages (from -r /kaggle/working/yolov5/requirements.txt (line 5)) (3.1.32)\n",
            "Requirement already satisfied: matplotlib>=3.3 in /opt/conda/lib/python3.10/site-packages (from -r /kaggle/working/yolov5/requirements.txt (line 6)) (3.7.4)\n",
            "Requirement already satisfied: numpy>=1.22.2 in /opt/conda/lib/python3.10/site-packages (from -r /kaggle/working/yolov5/requirements.txt (line 7)) (1.24.3)\n",
            "Requirement already satisfied: opencv-python>=4.1.1 in /opt/conda/lib/python3.10/site-packages (from -r /kaggle/working/yolov5/requirements.txt (line 8)) (4.8.1.78)\n",
            "Requirement already satisfied: Pillow>=10.0.1 in /opt/conda/lib/python3.10/site-packages (from -r /kaggle/working/yolov5/requirements.txt (line 9)) (10.1.0)\n",
            "Requirement already satisfied: psutil in /opt/conda/lib/python3.10/site-packages (from -r /kaggle/working/yolov5/requirements.txt (line 10)) (5.9.3)\n",
            "Requirement already satisfied: PyYAML>=5.3.1 in /opt/conda/lib/python3.10/site-packages (from -r /kaggle/working/yolov5/requirements.txt (line 11)) (6.0.1)\n",
            "Requirement already satisfied: requests>=2.23.0 in /opt/conda/lib/python3.10/site-packages (from -r /kaggle/working/yolov5/requirements.txt (line 12)) (2.31.0)\n",
            "Requirement already satisfied: scipy>=1.4.1 in /opt/conda/lib/python3.10/site-packages (from -r /kaggle/working/yolov5/requirements.txt (line 13)) (1.11.4)\n",
            "Collecting thop>=0.1.1 (from -r /kaggle/working/yolov5/requirements.txt (line 14))\n",
            "  Downloading thop-0.1.1.post2209072238-py3-none-any.whl (15 kB)\n",
            "Requirement already satisfied: torch>=1.8.0 in /opt/conda/lib/python3.10/site-packages (from -r /kaggle/working/yolov5/requirements.txt (line 15)) (2.0.0)\n",
            "Requirement already satisfied: torchvision>=0.9.0 in /opt/conda/lib/python3.10/site-packages (from -r /kaggle/working/yolov5/requirements.txt (line 16)) (0.15.1)\n",
            "Requirement already satisfied: tqdm>=4.64.0 in /opt/conda/lib/python3.10/site-packages (from -r /kaggle/working/yolov5/requirements.txt (line 17)) (4.66.1)\n",
            "Collecting ultralytics>=8.0.232 (from -r /kaggle/working/yolov5/requirements.txt (line 18))\n",
            "  Obtaining dependency information for ultralytics>=8.0.232 from https://files.pythonhosted.org/packages/41/8f/37e7c14912a504df76212ff93eb8b78047fa2b3318dece8c2da6192231be/ultralytics-8.0.235-py3-none-any.whl.metadata\n",
            "  Downloading ultralytics-8.0.235-py3-none-any.whl.metadata (35 kB)\n",
            "Requirement already satisfied: pandas>=1.1.4 in /opt/conda/lib/python3.10/site-packages (from -r /kaggle/working/yolov5/requirements.txt (line 27)) (2.0.3)\n",
            "Requirement already satisfied: seaborn>=0.11.0 in /opt/conda/lib/python3.10/site-packages (from -r /kaggle/working/yolov5/requirements.txt (line 28)) (0.12.2)\n",
            "Requirement already satisfied: setuptools>=65.5.1 in /opt/conda/lib/python3.10/site-packages (from -r /kaggle/working/yolov5/requirements.txt (line 42)) (68.1.2)\n",
            "Requirement already satisfied: gitdb<5,>=4.0.1 in /opt/conda/lib/python3.10/site-packages (from gitpython>=3.1.30->-r /kaggle/working/yolov5/requirements.txt (line 5)) (4.0.10)\n",
            "Requirement already satisfied: contourpy>=1.0.1 in /opt/conda/lib/python3.10/site-packages (from matplotlib>=3.3->-r /kaggle/working/yolov5/requirements.txt (line 6)) (1.1.0)\n",
            "Requirement already satisfied: cycler>=0.10 in /opt/conda/lib/python3.10/site-packages (from matplotlib>=3.3->-r /kaggle/working/yolov5/requirements.txt (line 6)) (0.11.0)\n",
            "Requirement already satisfied: fonttools>=4.22.0 in /opt/conda/lib/python3.10/site-packages (from matplotlib>=3.3->-r /kaggle/working/yolov5/requirements.txt (line 6)) (4.42.1)\n",
            "Requirement already satisfied: kiwisolver>=1.0.1 in /opt/conda/lib/python3.10/site-packages (from matplotlib>=3.3->-r /kaggle/working/yolov5/requirements.txt (line 6)) (1.4.4)\n",
            "Requirement already satisfied: packaging>=20.0 in /opt/conda/lib/python3.10/site-packages (from matplotlib>=3.3->-r /kaggle/working/yolov5/requirements.txt (line 6)) (21.3)\n",
            "Requirement already satisfied: pyparsing>=2.3.1 in /opt/conda/lib/python3.10/site-packages (from matplotlib>=3.3->-r /kaggle/working/yolov5/requirements.txt (line 6)) (3.0.9)\n",
            "Requirement already satisfied: python-dateutil>=2.7 in /opt/conda/lib/python3.10/site-packages (from matplotlib>=3.3->-r /kaggle/working/yolov5/requirements.txt (line 6)) (2.8.2)\n",
            "Requirement already satisfied: charset-normalizer<4,>=2 in /opt/conda/lib/python3.10/site-packages (from requests>=2.23.0->-r /kaggle/working/yolov5/requirements.txt (line 12)) (3.2.0)\n",
            "Requirement already satisfied: idna<4,>=2.5 in /opt/conda/lib/python3.10/site-packages (from requests>=2.23.0->-r /kaggle/working/yolov5/requirements.txt (line 12)) (3.4)\n",
            "Requirement already satisfied: urllib3<3,>=1.21.1 in /opt/conda/lib/python3.10/site-packages (from requests>=2.23.0->-r /kaggle/working/yolov5/requirements.txt (line 12)) (1.26.15)\n",
            "Requirement already satisfied: certifi>=2017.4.17 in /opt/conda/lib/python3.10/site-packages (from requests>=2.23.0->-r /kaggle/working/yolov5/requirements.txt (line 12)) (2023.11.17)\n",
            "Requirement already satisfied: filelock in /opt/conda/lib/python3.10/site-packages (from torch>=1.8.0->-r /kaggle/working/yolov5/requirements.txt (line 15)) (3.12.2)\n",
            "Requirement already satisfied: typing-extensions in /opt/conda/lib/python3.10/site-packages (from torch>=1.8.0->-r /kaggle/working/yolov5/requirements.txt (line 15)) (4.5.0)\n",
            "Requirement already satisfied: sympy in /opt/conda/lib/python3.10/site-packages (from torch>=1.8.0->-r /kaggle/working/yolov5/requirements.txt (line 15)) (1.12)\n",
            "Requirement already satisfied: networkx in /opt/conda/lib/python3.10/site-packages (from torch>=1.8.0->-r /kaggle/working/yolov5/requirements.txt (line 15)) (3.1)\n",
            "Requirement already satisfied: jinja2 in /opt/conda/lib/python3.10/site-packages (from torch>=1.8.0->-r /kaggle/working/yolov5/requirements.txt (line 15)) (3.1.2)\n",
            "Requirement already satisfied: py-cpuinfo in /opt/conda/lib/python3.10/site-packages (from ultralytics>=8.0.232->-r /kaggle/working/yolov5/requirements.txt (line 18)) (9.0.0)\n",
            "Requirement already satisfied: pytz>=2020.1 in /opt/conda/lib/python3.10/site-packages (from pandas>=1.1.4->-r /kaggle/working/yolov5/requirements.txt (line 27)) (2023.3)\n",
            "Requirement already satisfied: tzdata>=2022.1 in /opt/conda/lib/python3.10/site-packages (from pandas>=1.1.4->-r /kaggle/working/yolov5/requirements.txt (line 27)) (2023.3)\n",
            "Requirement already satisfied: smmap<6,>=3.0.1 in /opt/conda/lib/python3.10/site-packages (from gitdb<5,>=4.0.1->gitpython>=3.1.30->-r /kaggle/working/yolov5/requirements.txt (line 5)) (5.0.0)\n",
            "Requirement already satisfied: six>=1.5 in /opt/conda/lib/python3.10/site-packages (from python-dateutil>=2.7->matplotlib>=3.3->-r /kaggle/working/yolov5/requirements.txt (line 6)) (1.16.0)\n",
            "Requirement already satisfied: MarkupSafe>=2.0 in /opt/conda/lib/python3.10/site-packages (from jinja2->torch>=1.8.0->-r /kaggle/working/yolov5/requirements.txt (line 15)) (2.1.3)\n",
            "Requirement already satisfied: mpmath>=0.19 in /opt/conda/lib/python3.10/site-packages (from sympy->torch>=1.8.0->-r /kaggle/working/yolov5/requirements.txt (line 15)) (1.3.0)\n",
            "Downloading ultralytics-8.0.235-py3-none-any.whl (677 kB)\n",
            "\u001b[2K   \u001b[90m━━━━━━━━━━━━━━━━━━━━━━━━━━━━━━━━━━━━━━━━\u001b[0m \u001b[32m677.8/677.8 kB\u001b[0m \u001b[31m5.8 MB/s\u001b[0m eta \u001b[36m0:00:00\u001b[0m00:01\u001b[0m00:01\u001b[0m\n",
            "\u001b[?25hInstalling collected packages: thop, ultralytics\n",
            "Successfully installed thop-0.1.1.post2209072238 ultralytics-8.0.235\n"
          ]
        }
      ],
      "source": [
        "# git clone - prepare training\n",
        "!git clone https://github.com/ultralytics/yolov5.git\n",
        "!pip install -r /kaggle/working/yolov5/requirements.txt"
      ]
    },
    {
      "cell_type": "code",
      "execution_count": null,
      "metadata": {
        "execution": {
          "iopub.execute_input": "2024-01-05T20:58:57.627513Z",
          "iopub.status.busy": "2024-01-05T20:58:57.627212Z",
          "iopub.status.idle": "2024-01-05T20:59:44.892105Z",
          "shell.execute_reply": "2024-01-05T20:59:44.891269Z",
          "shell.execute_reply.started": "2024-01-05T20:58:57.627489Z"
        },
        "id": "5CDomTinwpgt",
        "outputId": "077ed315-adb2-4ba1-a3e7-e4f02d0a8a7c",
        "trusted": true
      },
      "outputs": [
        {
          "name": "stdout",
          "output_type": "stream",
          "text": [
            "Requirement already satisfied: wandb in /opt/conda/lib/python3.10/site-packages (0.16.1)\n",
            "Requirement already satisfied: Click!=8.0.0,>=7.1 in /opt/conda/lib/python3.10/site-packages (from wandb) (8.1.7)\n",
            "Requirement already satisfied: GitPython!=3.1.29,>=1.0.0 in /opt/conda/lib/python3.10/site-packages (from wandb) (3.1.32)\n",
            "Requirement already satisfied: requests<3,>=2.0.0 in /opt/conda/lib/python3.10/site-packages (from wandb) (2.31.0)\n",
            "Requirement already satisfied: psutil>=5.0.0 in /opt/conda/lib/python3.10/site-packages (from wandb) (5.9.3)\n",
            "Requirement already satisfied: sentry-sdk>=1.0.0 in /opt/conda/lib/python3.10/site-packages (from wandb) (1.39.0)\n",
            "Requirement already satisfied: docker-pycreds>=0.4.0 in /opt/conda/lib/python3.10/site-packages (from wandb) (0.4.0)\n",
            "Requirement already satisfied: PyYAML in /opt/conda/lib/python3.10/site-packages (from wandb) (6.0.1)\n",
            "Requirement already satisfied: setproctitle in /opt/conda/lib/python3.10/site-packages (from wandb) (1.3.3)\n",
            "Requirement already satisfied: setuptools in /opt/conda/lib/python3.10/site-packages (from wandb) (68.1.2)\n",
            "Requirement already satisfied: appdirs>=1.4.3 in /opt/conda/lib/python3.10/site-packages (from wandb) (1.4.4)\n",
            "Requirement already satisfied: protobuf!=4.21.0,<5,>=3.19.0 in /opt/conda/lib/python3.10/site-packages (from wandb) (3.20.3)\n",
            "Requirement already satisfied: six>=1.4.0 in /opt/conda/lib/python3.10/site-packages (from docker-pycreds>=0.4.0->wandb) (1.16.0)\n",
            "Requirement already satisfied: gitdb<5,>=4.0.1 in /opt/conda/lib/python3.10/site-packages (from GitPython!=3.1.29,>=1.0.0->wandb) (4.0.10)\n",
            "Requirement already satisfied: charset-normalizer<4,>=2 in /opt/conda/lib/python3.10/site-packages (from requests<3,>=2.0.0->wandb) (3.2.0)\n",
            "Requirement already satisfied: idna<4,>=2.5 in /opt/conda/lib/python3.10/site-packages (from requests<3,>=2.0.0->wandb) (3.4)\n",
            "Requirement already satisfied: urllib3<3,>=1.21.1 in /opt/conda/lib/python3.10/site-packages (from requests<3,>=2.0.0->wandb) (1.26.15)\n",
            "Requirement already satisfied: certifi>=2017.4.17 in /opt/conda/lib/python3.10/site-packages (from requests<3,>=2.0.0->wandb) (2023.11.17)\n",
            "Requirement already satisfied: smmap<6,>=3.0.1 in /opt/conda/lib/python3.10/site-packages (from gitdb<5,>=4.0.1->GitPython!=3.1.29,>=1.0.0->wandb) (5.0.0)\n"
          ]
        },
        {
          "name": "stderr",
          "output_type": "stream",
          "text": [
            "\u001b[34m\u001b[1mwandb\u001b[0m: W&B API key is configured. Use \u001b[1m`wandb login --relogin`\u001b[0m to force relogin\n",
            "\u001b[34m\u001b[1mwandb\u001b[0m: \u001b[33mWARNING\u001b[0m If you're specifying your api key in code, ensure this code is not shared publicly.\n",
            "\u001b[34m\u001b[1mwandb\u001b[0m: \u001b[33mWARNING\u001b[0m Consider setting the WANDB_API_KEY environment variable, or running `wandb login` from the command line.\n",
            "\u001b[34m\u001b[1mwandb\u001b[0m: Appending key for api.wandb.ai to your netrc file: /root/.netrc\n",
            "\u001b[34m\u001b[1mwandb\u001b[0m: Currently logged in as: \u001b[33mdoanngoccuong\u001b[0m (\u001b[33mdoanngoccuong_nh\u001b[0m). Use \u001b[1m`wandb login --relogin`\u001b[0m to force relogin\n"
          ]
        },
        {
          "data": {
            "text/html": [
              "Tracking run with wandb version 0.16.1"
            ],
            "text/plain": [
              "<IPython.core.display.HTML object>"
            ]
          },
          "metadata": {},
          "output_type": "display_data"
        },
        {
          "data": {
            "text/html": [
              "Run data is saved locally in <code>/kaggle/working/yolov5/wandb/run-20240105_205913-1dp2p25b</code>"
            ],
            "text/plain": [
              "<IPython.core.display.HTML object>"
            ]
          },
          "metadata": {},
          "output_type": "display_data"
        },
        {
          "data": {
            "text/html": [
              "Syncing run <strong><a href='https://wandb.ai/doanngoccuong_nh/yolov5/runs/1dp2p25b' target=\"_blank\">dauntless-blaze-13</a></strong> to <a href='https://wandb.ai/doanngoccuong_nh/yolov5' target=\"_blank\">Weights & Biases</a> (<a href='https://wandb.me/run' target=\"_blank\">docs</a>)<br/>"
            ],
            "text/plain": [
              "<IPython.core.display.HTML object>"
            ]
          },
          "metadata": {},
          "output_type": "display_data"
        },
        {
          "data": {
            "text/html": [
              " View project at <a href='https://wandb.ai/doanngoccuong_nh/yolov5' target=\"_blank\">https://wandb.ai/doanngoccuong_nh/yolov5</a>"
            ],
            "text/plain": [
              "<IPython.core.display.HTML object>"
            ]
          },
          "metadata": {},
          "output_type": "display_data"
        },
        {
          "data": {
            "text/html": [
              " View run at <a href='https://wandb.ai/doanngoccuong_nh/yolov5/runs/1dp2p25b' target=\"_blank\">https://wandb.ai/doanngoccuong_nh/yolov5/runs/1dp2p25b</a>"
            ],
            "text/plain": [
              "<IPython.core.display.HTML object>"
            ]
          },
          "metadata": {},
          "output_type": "display_data"
        },
        {
          "name": "stderr",
          "output_type": "stream",
          "text": [
            "\u001b[34m\u001b[1mwandb\u001b[0m:   1 of 1 files downloaded.  \n"
          ]
        }
      ],
      "source": [
        "# Load trained model - 10 epochs\n",
        "!pip install wandb\n",
        "import wandb\n",
        "\n",
        "wandb.login(key = \"c8767797aae76cbcd389ff29929ace1ac3021161\")    # key's DoanNgocCuong\n",
        "run = wandb.init()\n",
        "artifact = run.use_artifact('doanngoccuong_nh/FaceDetection_Yolov5/facedet_widerface_cfgyolov5_colab:v0', type='model')\n",
        "artifact_dir = artifact.download()"
      ]
    },
    {
      "cell_type": "code",
      "execution_count": null,
      "metadata": {
        "id": "XFbcRKc9wpgu",
        "trusted": true
      },
      "outputs": [],
      "source": [
        "# Write again file custom_dataset.yaml (because file trong dataset is for kaggle).\n",
        "\n",
        "# Nội dung của file .yaml\n",
        "yaml_content = \"\"\"\n",
        "\n",
        "# train: /content/drive/MyDrive/colab/custom_dataset/images_and_labels/images/train\n",
        "# val: /content/drive/MyDrive/colab/custom_dataset/images_and_labels/images/val\n",
        "train: /kaggle/input/facedetection-widerfacedataset-yolov5-zip/custom_dataset/images_and_labels/images/train\n",
        "val: /kaggle/input/facedetection-widerfacedataset-yolov5-zip/custom_dataset/images_and_labels/images/val\n",
        "\n",
        "# number of classes\n",
        "nc: 1\n",
        "# class names\n",
        "names: ['face']\n",
        "\"\"\"\n",
        "# Tạo và ghi (w ghi mới, a: append ghi thêm)\n",
        "with open('/kaggle/working/custom_dataset.yaml', 'w') as file:\n",
        "    file.write(yaml_content)\n",
        "print(\"custom_dataset.yaml file created successfully!\")"
      ]
    },
    {
      "cell_type": "code",
      "execution_count": null,
      "metadata": {
        "id": "JZmWF11Awpgv",
        "trusted": true
      },
      "outputs": [],
      "source": [
        "# --resume flag is for continuing training that was interrupted,  should not change any settings from your initial training command, such as --epochs, --batch, or --data.\n",
        "# --weights flag is for starting a new training based on a pre-trained model.\n",
        "\n",
        "# Kaggle GPU T4x2 mạnh gấp đôi GPU thì batch *2 lên from 16->32\n",
        "# cache for load trainloader, testloader. name for name run in wandb\n",
        "# SUCCESSFUL - 18722.6s - GPU T4x2\n",
        "%cd /kaggle/working/yolov5\n",
        "!python train.py --img 640 --batch 32 --epochs 100 \\\n",
        "  --data /kaggle/working/custom_dataset.yaml \\\n",
        "  --weights '/kaggle/working/artifacts/facedet_widerface_cfgyolov5_colab:v0/best.pt' \\\n",
        "  --project FaceDetection_Yolov5   --name facedet_widerds_yolov5s_kaggle_ep10to100 \\\n",
        "  --entity doanngoccuong_nh \\\n",
        "  --cache\n",
        "wandb.finish() # Kết thúc quá trình Train model - TẮT CHẤM XANH WANDB\n",
        "\n",
        "# https://wandb.ai/doanngoccuong_nh/FaceDetection_Yolov5/artifacts/model/facedet_widerface_cfgyolov5_colab/v0\n",
        "# --weights 'wandb-artifact://<entity>/<project>/model:v0' --name custom_model --cache \\\n",
        "# UN SUCCESSFUL\n",
        "# CODE KO HOẠT ĐỘNG KHI LOAD TRỰC TIẾP TỪ WANDB\n",
        "# !python train.py --img 640 --batch 32 --epochs 100 \\\n",
        "#   --data /kaggle/working/custom_dataset.yaml \\\n",
        "#   --weights 'wandb-artifact://doanngoccuong_nh/FaceDetection_Yolov5/facedet_widerface_cfgyolov5_colab:v0' \\\n",
        "#   --project FaceDetection_Yolov5   --name facedet_widerds_yolov5s_kaggle_ep10to100 \\\n",
        "#   --entity doanngoccuong_nh \\\n",
        "#   --cache\n"
      ]
    },
    {
      "cell_type": "markdown",
      "metadata": {
        "id": "DDcixpVCwpgw"
      },
      "source": [
        "Đồ thị wandb cho thấy, sau 20 epochs, model cải thiện nhưng ko đáng kể so với tốc độ cải thiện của 10 epochs đầu (Cũng cho thấy 10 epochs đầu quá ukii)"
      ]
    }
  ],
  "metadata": {
    "colab": {
      "provenance": [],
      "toc_visible": true
    },
    "kaggle": {
      "accelerator": "nvidiaTeslaT4",
      "dataSources": [
        {
          "datasetId": 4253223,
          "sourceId": 7327663,
          "sourceType": "datasetVersion"
        }
      ],
      "dockerImageVersionId": 30627,
      "isGpuEnabled": true,
      "isInternetEnabled": true,
      "language": "python",
      "sourceType": "notebook"
    },
    "kernelspec": {
      "display_name": "Python 3",
      "language": "python",
      "name": "python3"
    },
    "language_info": {
      "codemirror_mode": {
        "name": "ipython",
        "version": 3
      },
      "file_extension": ".py",
      "mimetype": "text/x-python",
      "name": "python",
      "nbconvert_exporter": "python",
      "pygments_lexer": "ipython3",
      "version": "3.10.12"
    }
  },
  "nbformat": 4,
  "nbformat_minor": 0
}
