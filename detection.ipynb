{
 "cells": [
  {
   "cell_type": "code",
   "execution_count": 1,
   "metadata": {},
   "outputs": [],
   "source": [
    "from retinaface import RetinaFace\n",
    "import cv2\n",
    "import numpy as np\n",
    "import matplotlib.pyplot as plt\n",
    "import torch\n",
    "device = torch.device(\"cuda\" if torch.cuda.is_available() else \"cpu\")\n",
    "\n",
    "from PIL import Image\n",
    "from pillow_heif import register_heif_opener\n",
    "\n",
    "register_heif_opener()"
   ]
  },
  {
   "cell_type": "code",
   "execution_count": 7,
   "metadata": {},
   "outputs": [
    {
     "name": "stdout",
     "output_type": "stream",
     "text": [
      "Label 2/2 --- Image 1097/1097\r"
     ]
    }
   ],
   "source": [
    "import os\n",
    "\n",
    "DATA_DIR = \"\"\n",
    "OUTPUT_DIR = \"\"\n",
    "os.makedirs(OUTPUT_DIR, exist_ok=True)\n",
    "\n",
    "for l_idx, label in enumerate(os.listdir(DATA_DIR)):\n",
    "    os.makedirs(os.path.join(OUTPUT_DIR, label), exist_ok=True)\n",
    "    for i_idx, img_name in enumerate(os.listdir(os.path.join(DATA_DIR, label))):\n",
    "        print(f\"Label {l_idx + 1}/{len(os.listdir(DATA_DIR))} --- Image {i_idx + 1}/{len(os.listdir(os.path.join(DATA_DIR, label)))}\", end = \"\\r\")\n",
    "        img_path = os.path.join(DATA_DIR, label, img_name)\n",
    "        img = np.array(Image.open(img_path).convert(\"RGB\"))\n",
    "        res = RetinaFace.extract_faces(img)\n",
    "        if not res:\n",
    "            continue\n",
    "        cv2.imwrite(os.path.join(OUTPUT_DIR, label, img_name), res[0])"
   ]
  }
 ],
 "metadata": {
  "kernelspec": {
   "display_name": "Python 3",
   "language": "python",
   "name": "python3"
  },
  "language_info": {
   "codemirror_mode": {
    "name": "ipython",
    "version": 3
   },
   "file_extension": ".py",
   "mimetype": "text/x-python",
   "name": "python",
   "nbconvert_exporter": "python",
   "pygments_lexer": "ipython3",
   "version": "3.10.12"
  }
 },
 "nbformat": 4,
 "nbformat_minor": 2
}
