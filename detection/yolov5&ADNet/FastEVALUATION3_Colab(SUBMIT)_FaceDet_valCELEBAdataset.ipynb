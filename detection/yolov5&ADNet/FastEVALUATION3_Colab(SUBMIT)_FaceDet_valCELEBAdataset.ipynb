{
  "cells": [
    {
      "cell_type": "markdown",
      "metadata": {
        "id": "uoA3pFRZxzH2"
      },
      "source": [
        "# ***0. CONNECT GGDRIVE***  - for data processing"
      ]
    },
    {
      "cell_type": "code",
      "execution_count": 1,
      "metadata": {
        "colab": {
          "base_uri": "https://localhost:8080/"
        },
        "id": "_YJetsc30de5",
        "outputId": "0427fd8d-85a3-4172-b6f1-89bdb0d84e0e"
      },
      "outputs": [
        {
          "name": "stdout",
          "output_type": "stream",
          "text": [
            "Mounted at /content/drive\n"
          ]
        }
      ],
      "source": [
        "from google.colab import drive\n",
        "drive.mount('/content/drive')"
      ]
    },
    {
      "cell_type": "code",
      "execution_count": 2,
      "metadata": {
        "colab": {
          "base_uri": "https://localhost:8080/"
        },
        "id": "VGz7tqor1SLL",
        "outputId": "cc705cee-c73e-4199-d3b7-23944142d8f5"
      },
      "outputs": [
        {
          "name": "stdout",
          "output_type": "stream",
          "text": [
            "mkdir: cannot create directory ‘/content/drive/MyDrive/colab’: File exists\n",
            "/content/drive/MyDrive/colab\n"
          ]
        }
      ],
      "source": [
        "!mkdir /content/drive/MyDrive/colab\n",
        "%cd /content/drive/MyDrive/colab\n"
      ]
    },
    {
      "cell_type": "markdown",
      "metadata": {},
      "source": [
        "# ***1. Load WIDERFACE Dataset (TRAINING) - EDA - Processing Yolov5***"
      ]
    },
    {
      "cell_type": "markdown",
      "metadata": {},
      "source": [
        "# ***1'. Download the kaggle dataset THAT I PROCESSED IN THE PREVIOUS STEP AND UPLOAD TO KAGGLE***\n",
        "- https://www.kaggle.com/datasets/cngonngc/facedetection-widerfacedataset-yolov5-zip\n",
        "- Dataset upload Drive is also quite convenient, but the synchronization speed is slow when switching between different accounts to use free GPU.-> ZIP FILE to upload to Kaggle dataset, downloading is more convenient when using.\n"
      ]
    },
    {
      "cell_type": "markdown",
      "metadata": {
        "id": "hU4fWdgmxxBJ"
      },
      "source": [
        "# ***1''. Load EVALUATION Dataset - EDA - Processing Yolov5***\n",
        "- FOR EVALUATION"
      ]
    },
    {
      "cell_type": "markdown",
      "metadata": {
        "id": "Bu1SqUcM4LwO"
      },
      "source": [
        "## 1.1 CELEBA Dataset"
      ]
    },
    {
      "cell_type": "markdown",
      "metadata": {
        "id": "6ulnw0et3d21"
      },
      "source": [
        "Dataset\n",
        "- https://mmlab.ie.cuhk.edu.hk/projects/CelebA.html (lỗi bboxes)\n",
        "- https://datasets.activeloop.ai/docs/ml/datasets/celeba-dataset/\n",
        "- https://www.kaggle.com/datasets/jessicali9530/celeba-dataset  (lỗi bboxes)\n"
      ]
    },
    {
      "cell_type": "markdown",
      "metadata": {
        "id": "6ujvp_cJ4KFk"
      },
      "source": [
        "## 1.2 EDA"
      ]
    },
    {
      "cell_type": "code",
      "execution_count": 3,
      "metadata": {
        "colab": {
          "base_uri": "https://localhost:8080/"
        },
        "id": "-nkx0eY63kTd",
        "outputId": "c8511a92-a2f6-46fe-ec7e-14a8f1be0630"
      },
      "outputs": [
        {
          "name": "stdout",
          "output_type": "stream",
          "text": [
            "Collecting deeplake\n",
            "  Downloading deeplake-3.8.14.tar.gz (588 kB)\n",
            "\u001b[?25l     \u001b[90m━━━━━━━━━━━━━━━━━━━━━━━━━━━━━━━━━━━━━━━━\u001b[0m \u001b[32m0.0/588.3 kB\u001b[0m \u001b[31m?\u001b[0m eta \u001b[36m-:--:--\u001b[0m\r\u001b[2K     \u001b[91m━━━━━━━━━━\u001b[0m\u001b[90m╺\u001b[0m\u001b[90m━━━━━━━━━━━━━━━━━━━━━━━━━━━━━\u001b[0m \u001b[32m153.6/588.3 kB\u001b[0m \u001b[31m4.4 MB/s\u001b[0m eta \u001b[36m0:00:01\u001b[0m\r\u001b[2K     \u001b[91m━━━━━━━━━━━━━━━━━━━━━━━━━━━━━━━━━━━━━━━\u001b[0m\u001b[91m╸\u001b[0m \u001b[32m583.7/588.3 kB\u001b[0m \u001b[31m9.3 MB/s\u001b[0m eta \u001b[36m0:00:01\u001b[0m\r\u001b[2K     \u001b[90m━━━━━━━━━━━━━━━━━━━━━━━━━━━━━━━━━━━━━━━━\u001b[0m \u001b[32m588.3/588.3 kB\u001b[0m \u001b[31m8.2 MB/s\u001b[0m eta \u001b[36m0:00:00\u001b[0m\n",
            "\u001b[?25h  Installing build dependencies ... \u001b[?25l\u001b[?25hdone\n",
            "  Getting requirements to build wheel ... \u001b[?25l\u001b[?25hdone\n",
            "  Preparing metadata (pyproject.toml) ... \u001b[?25l\u001b[?25hdone\n",
            "Requirement already satisfied: numpy in /usr/local/lib/python3.10/dist-packages (from deeplake) (1.23.5)\n",
            "Requirement already satisfied: pillow in /usr/local/lib/python3.10/dist-packages (from deeplake) (9.4.0)\n",
            "Collecting boto3 (from deeplake)\n",
            "  Downloading boto3-1.34.14-py3-none-any.whl (139 kB)\n",
            "\u001b[2K     \u001b[90m━━━━━━━━━━━━━━━━━━━━━━━━━━━━━━━━━━━━━━━━\u001b[0m \u001b[32m139.3/139.3 kB\u001b[0m \u001b[31m13.0 MB/s\u001b[0m eta \u001b[36m0:00:00\u001b[0m\n",
            "\u001b[?25hRequirement already satisfied: click in /usr/local/lib/python3.10/dist-packages (from deeplake) (8.1.7)\n",
            "Collecting pathos (from deeplake)\n",
            "  Downloading pathos-0.3.1-py3-none-any.whl (82 kB)\n",
            "\u001b[2K     \u001b[90m━━━━━━━━━━━━━━━━━━━━━━━━━━━━━━━━━━━━━━━━\u001b[0m \u001b[32m82.1/82.1 kB\u001b[0m \u001b[31m13.5 MB/s\u001b[0m eta \u001b[36m0:00:00\u001b[0m\n",
            "\u001b[?25hCollecting humbug>=0.3.1 (from deeplake)\n",
            "  Downloading humbug-0.3.2-py3-none-any.whl (15 kB)\n",
            "Requirement already satisfied: tqdm in /usr/local/lib/python3.10/dist-packages (from deeplake) (4.66.1)\n",
            "Collecting lz4 (from deeplake)\n",
            "  Downloading lz4-4.3.3-cp310-cp310-manylinux_2_17_x86_64.manylinux2014_x86_64.whl (1.3 MB)\n",
            "\u001b[2K     \u001b[90m━━━━━━━━━━━━━━━━━━━━━━━━━━━━━━━━━━━━━━━━\u001b[0m \u001b[32m1.3/1.3 MB\u001b[0m \u001b[31m14.0 MB/s\u001b[0m eta \u001b[36m0:00:00\u001b[0m\n",
            "\u001b[?25hRequirement already satisfied: pyjwt in /usr/lib/python3/dist-packages (from deeplake) (2.3.0)\n",
            "Requirement already satisfied: pydantic in /usr/local/lib/python3.10/dist-packages (from deeplake) (1.10.13)\n",
            "Collecting libdeeplake==0.0.95 (from deeplake)\n",
            "  Downloading libdeeplake-0.0.95-cp310-cp310-manylinux2014_x86_64.whl (15.0 MB)\n",
            "\u001b[2K     \u001b[90m━━━━━━━━━━━━━━━━━━━━━━━━━━━━━━━━━━━━━━━━\u001b[0m \u001b[32m15.0/15.0 MB\u001b[0m \u001b[31m17.7 MB/s\u001b[0m eta \u001b[36m0:00:00\u001b[0m\n",
            "\u001b[?25hCollecting aioboto3>=10.4.0 (from deeplake)\n",
            "  Downloading aioboto3-12.1.0-py3-none-any.whl (32 kB)\n",
            "Requirement already satisfied: nest-asyncio in /usr/local/lib/python3.10/dist-packages (from deeplake) (1.5.8)\n",
            "Collecting dill (from libdeeplake==0.0.95->deeplake)\n",
            "  Downloading dill-0.3.7-py3-none-any.whl (115 kB)\n",
            "\u001b[2K     \u001b[90m━━━━━━━━━━━━━━━━━━━━━━━━━━━━━━━━━━━━━━━━\u001b[0m \u001b[32m115.3/115.3 kB\u001b[0m \u001b[31m18.5 MB/s\u001b[0m eta \u001b[36m0:00:00\u001b[0m\n",
            "\u001b[?25hCollecting aiobotocore[boto3]==2.8.0 (from aioboto3>=10.4.0->deeplake)\n",
            "  Downloading aiobotocore-2.8.0-py3-none-any.whl (75 kB)\n",
            "\u001b[2K     \u001b[90m━━━━━━━━━━━━━━━━━━━━━━━━━━━━━━━━━━━━━━━━\u001b[0m \u001b[32m75.0/75.0 kB\u001b[0m \u001b[31m12.4 MB/s\u001b[0m eta \u001b[36m0:00:00\u001b[0m\n",
            "\u001b[?25hCollecting botocore<1.33.2,>=1.32.4 (from aiobotocore[boto3]==2.8.0->aioboto3>=10.4.0->deeplake)\n",
            "  Downloading botocore-1.33.1-py3-none-any.whl (11.6 MB)\n",
            "\u001b[2K     \u001b[90m━━━━━━━━━━━━━━━━━━━━━━━━━━━━━━━━━━━━━━━━\u001b[0m \u001b[32m11.6/11.6 MB\u001b[0m \u001b[31m20.5 MB/s\u001b[0m eta \u001b[36m0:00:00\u001b[0m\n",
            "\u001b[?25hRequirement already satisfied: aiohttp<4.0.0,>=3.7.4.post0 in /usr/local/lib/python3.10/dist-packages (from aiobotocore[boto3]==2.8.0->aioboto3>=10.4.0->deeplake) (3.9.1)\n",
            "Requirement already satisfied: wrapt<2.0.0,>=1.10.10 in /usr/local/lib/python3.10/dist-packages (from aiobotocore[boto3]==2.8.0->aioboto3>=10.4.0->deeplake) (1.14.1)\n",
            "Collecting aioitertools<1.0.0,>=0.5.1 (from aiobotocore[boto3]==2.8.0->aioboto3>=10.4.0->deeplake)\n",
            "  Downloading aioitertools-0.11.0-py3-none-any.whl (23 kB)\n",
            "Collecting boto3 (from deeplake)\n",
            "  Downloading boto3-1.33.1-py3-none-any.whl (139 kB)\n",
            "\u001b[2K     \u001b[90m━━━━━━━━━━━━━━━━━━━━━━━━━━━━━━━━━━━━━━━━\u001b[0m \u001b[32m139.1/139.1 kB\u001b[0m \u001b[31m21.8 MB/s\u001b[0m eta \u001b[36m0:00:00\u001b[0m\n",
            "\u001b[?25hCollecting jmespath<2.0.0,>=0.7.1 (from boto3->deeplake)\n",
            "  Downloading jmespath-1.0.1-py3-none-any.whl (20 kB)\n",
            "Collecting s3transfer<0.9.0,>=0.8.0 (from boto3->deeplake)\n",
            "  Downloading s3transfer-0.8.2-py3-none-any.whl (82 kB)\n",
            "\u001b[2K     \u001b[90m━━━━━━━━━━━━━━━━━━━━━━━━━━━━━━━━━━━━━━━━\u001b[0m \u001b[32m82.0/82.0 kB\u001b[0m \u001b[31m15.0 MB/s\u001b[0m eta \u001b[36m0:00:00\u001b[0m\n",
            "\u001b[?25hRequirement already satisfied: requests in /usr/local/lib/python3.10/dist-packages (from humbug>=0.3.1->deeplake) (2.31.0)\n",
            "Collecting ppft>=1.7.6.7 (from pathos->deeplake)\n",
            "  Downloading ppft-1.7.6.7-py3-none-any.whl (56 kB)\n",
            "\u001b[2K     \u001b[90m━━━━━━━━━━━━━━━━━━━━━━━━━━━━━━━━━━━━━━━━\u001b[0m \u001b[32m56.8/56.8 kB\u001b[0m \u001b[31m6.7 MB/s\u001b[0m eta \u001b[36m0:00:00\u001b[0m\n",
            "\u001b[?25hCollecting pox>=0.3.3 (from pathos->deeplake)\n",
            "  Downloading pox-0.3.3-py3-none-any.whl (29 kB)\n",
            "Collecting multiprocess>=0.70.15 (from pathos->deeplake)\n",
            "  Downloading multiprocess-0.70.15-py310-none-any.whl (134 kB)\n",
            "\u001b[2K     \u001b[90m━━━━━━━━━━━━━━━━━━━━━━━━━━━━━━━━━━━━━━━━\u001b[0m \u001b[32m134.8/134.8 kB\u001b[0m \u001b[31m19.5 MB/s\u001b[0m eta \u001b[36m0:00:00\u001b[0m\n",
            "\u001b[?25hRequirement already satisfied: typing-extensions>=4.2.0 in /usr/local/lib/python3.10/dist-packages (from pydantic->deeplake) (4.5.0)\n",
            "Requirement already satisfied: python-dateutil<3.0.0,>=2.1 in /usr/local/lib/python3.10/dist-packages (from botocore<1.33.2,>=1.32.4->aiobotocore[boto3]==2.8.0->aioboto3>=10.4.0->deeplake) (2.8.2)\n",
            "Requirement already satisfied: urllib3<2.1,>=1.25.4 in /usr/local/lib/python3.10/dist-packages (from botocore<1.33.2,>=1.32.4->aiobotocore[boto3]==2.8.0->aioboto3>=10.4.0->deeplake) (2.0.7)\n",
            "INFO: pip is looking at multiple versions of s3transfer to determine which version is compatible with other requirements. This could take a while.\n",
            "Collecting s3transfer<0.9.0,>=0.8.0 (from boto3->deeplake)\n",
            "  Downloading s3transfer-0.8.0-py3-none-any.whl (81 kB)\n",
            "\u001b[2K     \u001b[90m━━━━━━━━━━━━━━━━━━━━━━━━━━━━━━━━━━━━━━━━\u001b[0m \u001b[32m81.8/81.8 kB\u001b[0m \u001b[31m13.3 MB/s\u001b[0m eta \u001b[36m0:00:00\u001b[0m\n",
            "\u001b[?25hRequirement already satisfied: charset-normalizer<4,>=2 in /usr/local/lib/python3.10/dist-packages (from requests->humbug>=0.3.1->deeplake) (3.3.2)\n",
            "Requirement already satisfied: idna<4,>=2.5 in /usr/local/lib/python3.10/dist-packages (from requests->humbug>=0.3.1->deeplake) (3.6)\n",
            "Requirement already satisfied: certifi>=2017.4.17 in /usr/local/lib/python3.10/dist-packages (from requests->humbug>=0.3.1->deeplake) (2023.11.17)\n",
            "Requirement already satisfied: attrs>=17.3.0 in /usr/local/lib/python3.10/dist-packages (from aiohttp<4.0.0,>=3.7.4.post0->aiobotocore[boto3]==2.8.0->aioboto3>=10.4.0->deeplake) (23.1.0)\n",
            "Requirement already satisfied: multidict<7.0,>=4.5 in /usr/local/lib/python3.10/dist-packages (from aiohttp<4.0.0,>=3.7.4.post0->aiobotocore[boto3]==2.8.0->aioboto3>=10.4.0->deeplake) (6.0.4)\n",
            "Requirement already satisfied: yarl<2.0,>=1.0 in /usr/local/lib/python3.10/dist-packages (from aiohttp<4.0.0,>=3.7.4.post0->aiobotocore[boto3]==2.8.0->aioboto3>=10.4.0->deeplake) (1.9.4)\n",
            "Requirement already satisfied: frozenlist>=1.1.1 in /usr/local/lib/python3.10/dist-packages (from aiohttp<4.0.0,>=3.7.4.post0->aiobotocore[boto3]==2.8.0->aioboto3>=10.4.0->deeplake) (1.4.1)\n",
            "Requirement already satisfied: aiosignal>=1.1.2 in /usr/local/lib/python3.10/dist-packages (from aiohttp<4.0.0,>=3.7.4.post0->aiobotocore[boto3]==2.8.0->aioboto3>=10.4.0->deeplake) (1.3.1)\n",
            "Requirement already satisfied: async-timeout<5.0,>=4.0 in /usr/local/lib/python3.10/dist-packages (from aiohttp<4.0.0,>=3.7.4.post0->aiobotocore[boto3]==2.8.0->aioboto3>=10.4.0->deeplake) (4.0.3)\n",
            "Requirement already satisfied: six>=1.5 in /usr/local/lib/python3.10/dist-packages (from python-dateutil<3.0.0,>=2.1->botocore<1.33.2,>=1.32.4->aiobotocore[boto3]==2.8.0->aioboto3>=10.4.0->deeplake) (1.16.0)\n",
            "Building wheels for collected packages: deeplake\n",
            "  Building wheel for deeplake (pyproject.toml) ... \u001b[?25l\u001b[?25hdone\n",
            "  Created wheel for deeplake: filename=deeplake-3.8.14-py3-none-any.whl size=708550 sha256=4b5cfe1e8a92c25f0d0090d82f651091f2ba9d34cd05aabcd9946c5b916ca3d8\n",
            "  Stored in directory: /root/.cache/pip/wheels/34/f1/b6/8d07e40b25c6b95639c15cd78f1d15f7cfbd08510633f06436\n",
            "Successfully built deeplake\n",
            "Installing collected packages: ppft, pox, lz4, jmespath, dill, aioitertools, multiprocess, libdeeplake, humbug, botocore, s3transfer, pathos, aiobotocore, boto3, aioboto3, deeplake\n",
            "Successfully installed aioboto3-12.1.0 aiobotocore-2.8.0 aioitertools-0.11.0 boto3-1.33.1 botocore-1.33.1 deeplake-3.8.14 dill-0.3.7 humbug-0.3.2 jmespath-1.0.1 libdeeplake-0.0.95 lz4-4.3.3 multiprocess-0.70.15 pathos-0.3.1 pox-0.3.3 ppft-1.7.6.7 s3transfer-0.8.0\n"
          ]
        }
      ],
      "source": [
        "!pip install deeplake\n"
      ]
    },
    {
      "cell_type": "code",
      "execution_count": 4,
      "metadata": {
        "colab": {
          "base_uri": "https://localhost:8080/",
          "height": 1000
        },
        "id": "Mb77FIqS3nVd",
        "outputId": "3db27f99-d050-4829-e9cb-504a1281c789"
      },
      "outputs": [
        {
          "name": "stderr",
          "output_type": "stream",
          "text": [
            "/"
          ]
        },
        {
          "name": "stdout",
          "output_type": "stream",
          "text": [
            "Opening dataset in read-only mode as you don't have write permissions.\n"
          ]
        },
        {
          "name": "stderr",
          "output_type": "stream",
          "text": [
            "\\"
          ]
        },
        {
          "name": "stdout",
          "output_type": "stream",
          "text": [
            "This dataset can be visualized in Jupyter Notebook by ds.visualize() or at https://app.activeloop.ai/activeloop/celeb-a-train\n",
            "\n"
          ]
        },
        {
          "name": "stderr",
          "output_type": "stream",
          "text": [
            "/usr/local/lib/python3.10/dist-packages/deeplake/api/dataset.py:754: UserWarning: Dataset has more than 20 tensors. Skipping integrity check. Specify `check_integrity=True` to perform integrity check.\n",
            "  warnings.warn(\n",
            "\n",
            "/"
          ]
        },
        {
          "name": "stdout",
          "output_type": "stream",
          "text": [
            "hub://activeloop/celeb-a-train loaded successfully.\n",
            "\n"
          ]
        },
        {
          "name": "stderr",
          "output_type": "stream",
          "text": [
            "\r \r\r\r"
          ]
        },
        {
          "name": "stdout",
          "output_type": "stream",
          "text": [
            "(Tensor(key='images', index=Index([slice(None, 10, None)])),)\n",
            "Tensor(key='boxes', index=Index([slice(None, 10, None)]))\n",
            "Tensor(key='images', index=Index([0]))\n",
            "Shape of the image: (295, 285, 3)\n",
            "Data type of the image: uint8\n",
            "[[[255 250 224]\n",
            "  [234 231 198]\n",
            "  [187 194 150]\n",
            "  ...\n",
            "  [123  22  36]\n",
            "  [121  28  39]\n",
            "  [122  35  44]]\n",
            "\n",
            " [[247 240 214]\n",
            "  [224 221 188]\n",
            "  [177 184 140]\n",
            "  ...\n",
            "  [120  19  33]\n",
            "  [118  25  36]\n",
            "  [119  32  41]]\n",
            "\n",
            " [[245 238 212]\n",
            "  [222 219 186]\n",
            "  [175 182 138]\n",
            "  ...\n",
            "  [119  18  32]\n",
            "  [117  24  35]\n",
            "  [118  31  40]]\n",
            "\n",
            " ...\n",
            "\n",
            " [[195 162 117]\n",
            "  [197 164 119]\n",
            "  [201 168 125]\n",
            "  ...\n",
            "  [130  29  37]\n",
            "  [135  23  35]\n",
            "  [134  15  34]]\n",
            "\n",
            " [[188 155 110]\n",
            "  [195 162 117]\n",
            "  [204 171 128]\n",
            "  ...\n",
            "  [130  29  37]\n",
            "  [135  23  35]\n",
            "  [134  15  34]]\n",
            "\n",
            " [[186 153 108]\n",
            "  [195 162 117]\n",
            "  [206 173 130]\n",
            "  ...\n",
            "  [130  29  37]\n",
            "  [135  23  35]\n",
            "  [134  15  34]]]\n",
            "Shape of the image: (295, 285, 3)\n",
            "Data type of the image: uint8\n"
          ]
        },
        {
          "data": {
            "image/png": "[encoded data removed]",
            "text/plain": [
              "<Figure size 640x480 with 1 Axes>"
            ]
          },
          "metadata": {},
          "output_type": "display_data"
        },
        {
          "name": "stdout",
          "output_type": "stream",
          "text": [
            "Box shape for image 0: (1, 4)\n",
            "First bounding box for image 0 (if multiple): [ 54.  59. 148. 205.]\n"
          ]
        }
      ],
      "source": [
        "import deeplake\n",
        "ds_train = deeplake.load(\"hub://activeloop/celeb-a-train\")[:10]\n",
        "print(ds_train)\n",
        "\n",
        "img_list_train = ds_train['images'],\n",
        "anno_list_train = ds_train['boxes']\n",
        "print(img_list_train)\n",
        "print(anno_list_train)\n",
        "\n",
        "import numpy as np\n",
        "import matplotlib.pyplot as plt\n",
        "# Xem qua một số hình ảnh từ tập huấn luyện\n",
        "i=0\n",
        "image = ds_train['images'][i]  # Tensor(key='images', index=Index([0]))\n",
        "print(image)\n",
        "# In hình dạng và kiểu dữ liệu của ảnh\n",
        "print(\"Shape of the image:\", image.shape) # Shape of the image: (295, 285, 3)\n",
        "print(\"Data type of the image:\", image.dtype) # Data type of the image: uint8\n",
        "\n",
        "image = ds_train['images'][i].numpy()  # Chuyển tensor sang NumPy array\n",
        "print(image) # Numpy array\n",
        "print(\"Shape of the image:\", image.shape) # Shape of the image: (295, 285, 3)\n",
        "print(\"Data type of the image:\", image.dtype) # Data type of the image: uint8\n",
        "\n",
        "# Hiển thị ảnh\n",
        "plt.imshow(image)\n",
        "plt.title(f\"Image {i}\")\n",
        "plt.show()\n",
        "\n",
        "# In thông tin cấu trúc của bounding box\n",
        "box = ds_train['boxes'][i].numpy()  # Lấy thông tin bounding box và chuyển sang NumPy array\n",
        "print(f\"Box shape for image {i}:\", box.shape)\n",
        "print(f\"First bounding box for image {i} (if multiple):\", box[0])\n",
        "\n"
      ]
    },
    {
      "cell_type": "markdown",
      "metadata": {
        "id": "aVINZpvn4hOW"
      },
      "source": [
        "```python\n",
        "image = ds_train['images'][i].numpy()  # Chuyển tensor sang NumPy array\n",
        "box = ds_train['boxes'][i].numpy()  # Lấy thông tin bounding box và chuyển sang NumPy array\n",
        "```\n",
        "- bb dạng: x_min, y_min, width, height"
      ]
    },
    {
      "cell_type": "markdown",
      "metadata": {
        "id": "FRyyIFLX4xtt"
      },
      "source": [
        "## 1.3 Load Images and Bouding Boxes from deeplake to local colab\n",
        "Khi bạn sử dụng `deeplake.load` để tải bộ dữ liệu từ Activeloop Hub, bộ dữ liệu được tải trực tiếp vào bộ nhớ của môi trường Python mà bạn đang sử dụng, như Google Colab hoặc Kaggle Kernel. Nó không được lưu trữ trên ổ cứng hoặc bất kỳ thiết bị lưu trữ vật lý nào, trừ khi bạn chủ động thực hiện việc lưu nó.\n",
        "\n",
        "Dữ liệu trong `ds_train` sau khi chạy đoạn mã của bạn sẽ tồn tại dưới dạng một đối tượng trong bộ nhớ, có thể truy cập và xử lý trong phiên làm việc Python hiện tại của bạn. Khi bạn ngắt kết nối từ Colab hoặc Kaggle Kernel, hoặc khi phiên của bạn hết hạn, dữ liệu này sẽ bị mất trừ khi bạn đã lưu nó vào một nơi lưu trữ khác như Google Drive hoặc Kaggle Datasets.\n",
        "\n",
        "Nếu bạn muốn lưu một phần hoặc toàn bộ bộ dữ liệu này vào ổ cứng hoặc một dịch vụ lưu trữ đám mây, bạn cần viết mã để thực hiện việc lưu trữ đó. Điều này thường bao gồm việc chuyển dữ liệu vào định dạng phù hợp (ví dụ, hình ảnh thành các file ảnh, dữ liệu tabular thành CSV) và sau đó sử dụng các API hoặc thư viện để lưu nó vào vị trí mong muốn."
      ]
    },
    {
      "cell_type": "code",
      "execution_count": 5,
      "metadata": {
        "colab": {
          "base_uri": "https://localhost:8080/"
        },
        "id": "IMBuvZw942mP",
        "outputId": "3eadba9f-fd9d-4b13-8248-84954de3526c"
      },
      "outputs": [
        {
          "name": "stdout",
          "output_type": "stream",
          "text": [
            "mkdir: cannot create directory ‘custom_dataset’: File exists\n",
            "mkdir: cannot create directory ‘custom_dataset/images_and_labels’: File exists\n"
          ]
        }
      ],
      "source": [
        "!mkdir custom_dataset\n",
        "!mkdir custom_dataset/images_and_labels\n",
        "!mkdir custom_dataset/images_and_labels/images\n",
        "!mkdir custom_dataset/images_and_labels/labels"
      ]
    },
    {
      "cell_type": "code",
      "execution_count": 6,
      "metadata": {
        "colab": {
          "base_uri": "https://localhost:8080/"
        },
        "id": "dYo0DFWm492A",
        "outputId": "17cadbd1-acdc-41f7-d300-f71f03d8e185"
      },
      "outputs": [
        {
          "name": "stderr",
          "output_type": "stream",
          "text": [
            "/"
          ]
        },
        {
          "name": "stdout",
          "output_type": "stream",
          "text": [
            "Opening dataset in read-only mode as you don't have write permissions.\n"
          ]
        },
        {
          "name": "stderr",
          "output_type": "stream",
          "text": [
            "/"
          ]
        },
        {
          "name": "stdout",
          "output_type": "stream",
          "text": [
            "This dataset can be visualized in Jupyter Notebook by ds.visualize() or at https://app.activeloop.ai/activeloop/celeb-a-train\n",
            "\n"
          ]
        },
        {
          "name": "stderr",
          "output_type": "stream",
          "text": [
            "/"
          ]
        },
        {
          "name": "stdout",
          "output_type": "stream",
          "text": [
            "hub://activeloop/celeb-a-train loaded successfully.\n",
            "\n"
          ]
        },
        {
          "name": "stderr",
          "output_type": "stream",
          "text": [
            "\r \r\r\r"
          ]
        },
        {
          "name": "stdout",
          "output_type": "stream",
          "text": [
            "Images saved successfully.\n"
          ]
        }
      ],
      "source": [
        "import deeplake\n",
        "import os\n",
        "from PIL import Image\n",
        "import numpy as np\n",
        "\n",
        "# Load the dataset using deeplake\n",
        "ds_train = deeplake.load(\"hub://activeloop/celeb-a-train\")[:10]\n",
        "\n",
        "# Create a directory to save images if it does not exist\n",
        "save_path = \"custom_dataset/images_and_labels/images/train\"\n",
        "os.makedirs(save_path, exist_ok=True)\n",
        "\n",
        "# Save images to the directory\n",
        "for i in range(len(ds_train['images'])):  # Assuming 'image' is the key for images\n",
        "    image_array = ds_train['images'][i].numpy()  # Convert to numpy array\n",
        "    if image_array.ndim == 3 and image_array.shape[2] == 3:  # Check if image is in correct format\n",
        "        image = Image.fromarray(image_array)\n",
        "        image_path = os.path.join(save_path, f'image_{i}.png')\n",
        "        image.save(image_path, \"PNG\")\n",
        "\n",
        "print(\"Images saved successfully.\")\n"
      ]
    },
    {
      "cell_type": "markdown",
      "metadata": {
        "id": "7B_KjOcy5CHx"
      },
      "source": [
        "Để xử lý thông tin bounding box từ bộ dữ liệu CelebA và viết chúng vào các file `.txt` theo định dạng của YOLOv5, bạn cần thực hiện các bước sau:\n",
        "\n",
        "1. **Xác Định Tọa Độ Bounding Box**: Trong YOLOv5, bounding box được biểu diễn bởi tọa độ x_center, y_center, width, và height. Tuy nhiên, tọa độ trong CelebA có thể được biểu diễn dưới dạng x_min, y_min, width, và height. Do đó, bạn cần chuyển đổi chúng.\n",
        "\n",
        "2. **Chuyển Đổi Tọa Độ**:\n",
        "   - x_center = x_min + (width / 2)\n",
        "   - y_center = y_min + (height / 2)\n",
        "\n",
        "3. **Normalize Tọa Độ**: Trong YOLOv5, tọa độ thường được chuẩn hóa theo kích thước của ảnh. Điều này có nghĩa là x_center, y_center, width, và height đều là phần trăm tương đối của kích thước ảnh.\n",
        "   - x_center = x_center / chiều rộng ảnh\n",
        "   - y_center = y_center / chiều cao ảnh\n",
        "   - width = width / chiều rộng ảnh\n",
        "   - height = height / chiều cao ảnh\n",
        "\n",
        "4. **Lưu vào File `.txt`**: Mỗi ảnh sẽ có một file `.txt` tương ứng với nội dung là \"0\" và tọa độ bounding box đã được chuẩn hóa và chuyển đổi.\n"
      ]
    },
    {
      "cell_type": "code",
      "execution_count": 7,
      "metadata": {
        "colab": {
          "base_uri": "https://localhost:8080/"
        },
        "id": "_Rwl3d7o5EO3",
        "outputId": "49d937b7-dab9-44a6-94d6-3a9954f0430c"
      },
      "outputs": [
        {
          "name": "stdout",
          "output_type": "stream",
          "text": [
            "Bounding box annotations saved successfully.\n"
          ]
        }
      ],
      "source": [
        "import os\n",
        "\n",
        "# Tạo thư mục để lưu file .txt nếu chưa tồn tại\n",
        "txt_save_path = \"custom_dataset/images_and_labels/labels/train\"\n",
        "os.makedirs(txt_save_path, exist_ok=True)\n",
        "\n",
        "for i in range(len(ds_train['images'])):\n",
        "    image = ds_train['images'][i].numpy()\n",
        "    box = ds_train['boxes'][i].numpy()[0]  # Giả sử chỉ có một bounding box cho mỗi ảnh\n",
        "\n",
        "    # Chuyển đổi tọa độ\n",
        "    x_center = box[0] + (box[2] / 2)\n",
        "    y_center = box[1] + (box[3] / 2)\n",
        "\n",
        "    # Normalize tọa độ\n",
        "    x_center /= image.shape[1]  # Chia cho chiều rộng ảnh\n",
        "    y_center /= image.shape[0]  # Chia cho chiều cao ảnh\n",
        "    width_norm = box[2] / image.shape[1]\n",
        "    height_norm = box[3] / image.shape[0]\n",
        "\n",
        "    # Tạo nội dung cho file .txt\n",
        "    txt_content = f\"0 {x_center} {y_center} {width_norm} {height_norm}\"\n",
        "\n",
        "    # Lưu nội dung vào file .txt\n",
        "    txt_filename = f\"image_{i}.txt\"  # Hoặc sử dụng tên ảnh nếu có\n",
        "    with open(os.path.join(txt_save_path, txt_filename), 'w') as f:\n",
        "        f.write(txt_content)\n",
        "\n",
        "print(\"Bounding box annotations saved successfully.\")\n",
        "\n"
      ]
    },
    {
      "cell_type": "markdown",
      "metadata": {
        "id": "a6Ab8jlx4IaM"
      },
      "source": [
        "## 1.4 Processing: Train - Val - Test for Yolov5s"
      ]
    },
    {
      "cell_type": "markdown",
      "metadata": {
        "id": "Z5z4Eh3H5NJt"
      },
      "source": [
        "- https://github.com/deepakat002/yolov5_facemask\n",
        "- https://www.pandaml.com/train-yolov5/\n",
        "- https://www.kaggle.com/datasets/deepakat002/face-mask-detection-yolov5\n",
        "\n",
        "```\n",
        "yolov5\n",
        "custom_dataset\n",
        "├── custom_dataset.yaml\n",
        "├── custom_model.yaml\n",
        "└── images_and_labels\n",
        "```\n",
        "\n",
        "```\n",
        "images_and_labels\n",
        "├── images\n",
        "│   ├── train\n",
        "│   │   ├── train_001.jpg\n",
        "│   │   ├── train_002.jpg\n",
        "│   │   └── ...\n",
        "│   ├── valid\n",
        "│   │   ├── valid_001.jpg\n",
        "│   │   ├── valid_002.jpg\n",
        "│   │   └── ...\n",
        "│   └── test\n",
        "│       ├── test_001.jpg\n",
        "│       ├── test_002.jpg\n",
        "│       └── ...\n",
        "└── labels\n",
        "  ├── train\n",
        "  │   ├── train_001.txt\n",
        "  │   ├── train_002.txt\n",
        "  │   └── ...\n",
        "  └── valid\n",
        "      ├── valid_001.txt\n",
        "      ├── valid_002.txt\n",
        "      └── ...\n",
        "```\n",
        "hoặc\n",
        "```\n",
        "images_and_labels\n",
        "├── train\n",
        "│   ├── images\n",
        "│   │   ├── train_001.jpg\n",
        "│   │   ├── train_002.jpg\n",
        "│   │   └── ...\n",
        "│    ── labels\n",
        "│       ├── train_001.txt\n",
        "│       ├── train_002.txt\n",
        "│       └── ...                \n",
        "└── val\n",
        "  ├── images\n",
        "  │   ├── valid_001.jpg\n",
        "  │   ├── valid_002.jpg\n",
        "  │   └── ...\n",
        "  └── labels\n",
        "      ├── valid_001.txt\n",
        "      ├── valid_002.txt\n",
        "      └── ...\n",
        "```"
      ]
    },
    {
      "cell_type": "code",
      "execution_count": 17,
      "metadata": {
        "colab": {
          "base_uri": "https://localhost:8080/"
        },
        "id": "VEFal2XheCw8",
        "outputId": "206108dd-22c9-4927-a6da-6cabafd6deeb"
      },
      "outputs": [
        {
          "name": "stderr",
          "output_type": "stream",
          "text": [
            "\\"
          ]
        },
        {
          "name": "stdout",
          "output_type": "stream",
          "text": [
            "Opening dataset in read-only mode as you don't have write permissions.\n"
          ]
        },
        {
          "name": "stderr",
          "output_type": "stream",
          "text": [
            "\\"
          ]
        },
        {
          "name": "stdout",
          "output_type": "stream",
          "text": [
            "This dataset can be visualized in Jupyter Notebook by ds.visualize() or at https://app.activeloop.ai/activeloop/celeb-a-train\n",
            "\n"
          ]
        },
        {
          "name": "stderr",
          "output_type": "stream",
          "text": [
            "-"
          ]
        },
        {
          "name": "stdout",
          "output_type": "stream",
          "text": [
            "hub://activeloop/celeb-a-train loaded successfully.\n",
            "\n"
          ]
        },
        {
          "name": "stderr",
          "output_type": "stream",
          "text": [
            "\r \r/usr/local/lib/python3.10/dist-packages/deeplake/api/dataset.py:754: UserWarning: Dataset has more than 20 tensors. Skipping integrity check. Specify `check_integrity=True` to perform integrity check.\n",
            "  warnings.warn(\n",
            "\n"
          ]
        },
        {
          "name": "stdout",
          "output_type": "stream",
          "text": [
            "Opening dataset in read-only mode as you don't have write permissions.\n"
          ]
        },
        {
          "name": "stderr",
          "output_type": "stream",
          "text": [
            "\\"
          ]
        },
        {
          "name": "stdout",
          "output_type": "stream",
          "text": [
            "This dataset can be visualized in Jupyter Notebook by ds.visualize() or at https://app.activeloop.ai/activeloop/celeb-a-val\n",
            "\n"
          ]
        },
        {
          "name": "stderr",
          "output_type": "stream",
          "text": [
            "\\"
          ]
        },
        {
          "name": "stdout",
          "output_type": "stream",
          "text": [
            "hub://activeloop/celeb-a-val loaded successfully.\n",
            "\n"
          ]
        },
        {
          "name": "stderr",
          "output_type": "stream",
          "text": [
            "|"
          ]
        },
        {
          "name": "stdout",
          "output_type": "stream",
          "text": [
            "Opening dataset in read-only mode as you don't have write permissions.\n"
          ]
        },
        {
          "name": "stderr",
          "output_type": "stream",
          "text": [
            "/"
          ]
        },
        {
          "name": "stdout",
          "output_type": "stream",
          "text": [
            "This dataset can be visualized in Jupyter Notebook by ds.visualize() or at https://app.activeloop.ai/activeloop/celeb-a-test\n",
            "\n"
          ]
        },
        {
          "name": "stderr",
          "output_type": "stream",
          "text": [
            "/"
          ]
        },
        {
          "name": "stdout",
          "output_type": "stream",
          "text": [
            "hub://activeloop/celeb-a-test loaded successfully.\n",
            "\n"
          ]
        },
        {
          "name": "stderr",
          "output_type": "stream",
          "text": [
            "\r \r\r\r"
          ]
        },
        {
          "name": "stdout",
          "output_type": "stream",
          "text": [
            "Train images and annotations saved successfully.\n",
            "Validation images and annotations saved successfully.\n",
            "Test images and annotations saved successfully.\n"
          ]
        }
      ],
      "source": [
        "import deeplake\n",
        "import os\n",
        "from PIL import Image\n",
        "import numpy as np\n",
        "\n",
        "def process_dataset(ds, images_path, labels_path, dataset_type):\n",
        "    os.makedirs(images_path, exist_ok=True)\n",
        "    os.makedirs(labels_path, exist_ok=True)\n",
        "\n",
        "    for i, (image_array, box) in enumerate(zip(ds['images'], ds['boxes'])):\n",
        "        if image_array.ndim == 3 and image_array.shape[2] == 3:\n",
        "            # Save image\n",
        "            image = Image.fromarray(image_array.numpy())\n",
        "            image_path = os.path.join(images_path, f'image_{i}.png')\n",
        "            image.save(image_path, \"PNG\")\n",
        "\n",
        "            # Save bounding box\n",
        "            box = box.numpy()[0]\n",
        "            x_center, y_center = box[0] + box[2] / 2, box[1] + box[3] / 2\n",
        "            x_center /= image_array.shape[1]\n",
        "            y_center /= image_array.shape[0]\n",
        "            width_norm = box[2] / image_array.shape[1]\n",
        "            height_norm = box[3] / image_array.shape[0]\n",
        "            txt_content = f\"0 {x_center} {y_center} {width_norm} {height_norm}\"\n",
        "            txt_filename = f\"image_{i}.txt\"\n",
        "            with open(os.path.join(labels_path, txt_filename), 'w') as f:\n",
        "                f.write(txt_content)\n",
        "\n",
        "    print(f\"{dataset_type} images and annotations saved successfully.\")\n",
        "\n",
        "# Define paths\n",
        "base_path = \"custom_dataset/images_and_labels\"\n",
        "image_paths = {\n",
        "    \"train\": os.path.join(base_path, \"images/train\"),\n",
        "    \"valid\": os.path.join(base_path, \"images/valid\"),\n",
        "    \"test\": os.path.join(base_path, \"images/test\")\n",
        "}\n",
        "label_paths = {\n",
        "    \"train\": os.path.join(base_path, \"labels/train\"),\n",
        "    \"valid\": os.path.join(base_path, \"labels/valid\"),\n",
        "    \"test\": os.path.join(base_path, \"labels/test\")\n",
        "}\n",
        "\n",
        "# Load datasets\n",
        "ds_train = deeplake.load(\"hub://activeloop/celeb-a-train\")[:10]\n",
        "ds_val = deeplake.load(\"hub://activeloop/celeb-a-val\")[:1]\n",
        "ds_test = deeplake.load(\"hub://activeloop/celeb-a-test\")[:1]\n",
        "\n",
        "# Process datasets\n",
        "process_dataset(ds_train, image_paths['train'], label_paths['train'], \"Train\")\n",
        "process_dataset(ds_val, image_paths['valid'], label_paths['valid'], \"Validation\")\n",
        "process_dataset(ds_test, image_paths['test'], label_paths['test'], \"Test\")\n",
        "\n"
      ]
    },
    {
      "cell_type": "markdown",
      "metadata": {
        "id": "TlcopTIsxlOz"
      },
      "source": [
        "# ***2. Model: Yolov5s***"
      ]
    },
    {
      "cell_type": "markdown",
      "metadata": {
        "id": "WAvZ1IRJxtDf"
      },
      "source": [
        "## ***2.1 PREPARE custom_dataset.yaml and custom_model.yaml***"
      ]
    },
    {
      "cell_type": "markdown",
      "metadata": {
        "id": "Is_rJJbcW1TM"
      },
      "source": [
        "### 2.1.1 Write custom_dataset.yaml"
      ]
    },
    {
      "cell_type": "code",
      "execution_count": 9,
      "metadata": {
        "colab": {
          "base_uri": "https://localhost:8080/"
        },
        "id": "2D_0owcqW359",
        "outputId": "d62d11d5-d0a2-4f9a-999f-cf75b3bc8b6e"
      },
      "outputs": [
        {
          "name": "stdout",
          "output_type": "stream",
          "text": [
            "mkdir: cannot create directory ‘/content/drive/MyDrive/colab/custom_dataset’: File exists\n"
          ]
        }
      ],
      "source": [
        "!mkdir /content/drive/MyDrive/colab/custom_dataset  # báo file exists code dưới vẫn chạy nhá\n",
        "\n",
        "# Create and write to a file (cách tạo file trong kaggle luôn rùi)\n",
        "with open('/content/drive/MyDrive/colab/custom_dataset/custom_dataset.yaml', 'w') as file:  # write ghi đè, a (append mode)\n",
        "    file.write(\"\"\"\n",
        "\n",
        "# train: /content/drive/MyDrive/colab/custom_dataset/images_and_labels/images/train\n",
        "# val: /content/drive/MyDrive/colab/custom_dataset/images_and_labels/images/val\n",
        "test: /content/drive/MyDrive/colab/custom_dataset/images_and_labels/images/test\n",
        "\n",
        "# number of classes\n",
        "nc: 1\n",
        "# class names\n",
        "names: ['face']\n",
        "\"\"\")\n"
      ]
    },
    {
      "cell_type": "markdown",
      "metadata": {
        "id": "PvJdlN_sxsKQ"
      },
      "source": [
        "## ***2.2 TRAINING YOLOV5 (same PaddleOCR use)*** with command line training - shell script training\n",
        "\n"
      ]
    },
    {
      "cell_type": "markdown",
      "metadata": {
        "id": "DDcixpVCwpgw"
      },
      "source": [
        "Đồ thị wandb cho thấy, sau 20 epochs, model cải thiện nhưng ko đáng kể so với tốc độ cải thiện của 10 epochs đầu (Cũng cho thấy 10 epochs đầu quá ukii)"
      ]
    },
    {
      "cell_type": "markdown",
      "metadata": {
        "id": "TlxeKRg67pSd"
      },
      "source": [
        "## 2.3 INFER - PREDECTION - SMALL REAL TESTING:\n",
        "train: 12880, val: 3226, Test: hơn 3000 images... Without pretrained model: yolov5s.pt,\n",
        "use config /content/drive/MyDrive/colab/yolov5/models/yolov5s.yaml\n"
      ]
    },
    {
      "cell_type": "markdown",
      "metadata": {
        "id": "hV4HrxONUdq_"
      },
      "source": [
        "### 2.3.1 Model trained 10 epochs"
      ]
    },
    {
      "cell_type": "code",
      "execution_count": 10,
      "metadata": {
        "colab": {
          "base_uri": "https://localhost:8080/",
          "height": 1000
        },
        "id": "E7PvT6nsUBmn",
        "outputId": "564d27a5-530b-4c1f-f495-c28953c9ecc0"
      },
      "outputs": [
        {
          "name": "stdout",
          "output_type": "stream",
          "text": [
            "fatal: destination path 'yolov5' already exists and is not an empty directory.\n",
            "Collecting gitpython>=3.1.30 (from -r yolov5/requirements.txt (line 5))\n",
            "  Downloading GitPython-3.1.40-py3-none-any.whl (190 kB)\n",
            "\u001b[2K     \u001b[90m━━━━━━━━━━━━━━━━━━━━━━━━━━━━━━━━━━━━━━━━\u001b[0m \u001b[32m190.6/190.6 kB\u001b[0m \u001b[31m2.3 MB/s\u001b[0m eta \u001b[36m0:00:00\u001b[0m\n",
            "\u001b[?25hRequirement already satisfied: matplotlib>=3.3 in /usr/local/lib/python3.10/dist-packages (from -r yolov5/requirements.txt (line 6)) (3.7.1)\n",
            "Requirement already satisfied: numpy>=1.22.2 in /usr/local/lib/python3.10/dist-packages (from -r yolov5/requirements.txt (line 7)) (1.23.5)\n",
            "Requirement already satisfied: opencv-python>=4.1.1 in /usr/local/lib/python3.10/dist-packages (from -r yolov5/requirements.txt (line 8)) (4.8.0.76)\n",
            "Collecting Pillow>=10.0.1 (from -r yolov5/requirements.txt (line 9))\n",
            "  Downloading pillow-10.2.0-cp310-cp310-manylinux_2_28_x86_64.whl (4.5 MB)\n",
            "\u001b[2K     \u001b[90m━━━━━━━━━━━━━━━━━━━━━━━━━━━━━━━━━━━━━━━━\u001b[0m \u001b[32m4.5/4.5 MB\u001b[0m \u001b[31m18.9 MB/s\u001b[0m eta \u001b[36m0:00:00\u001b[0m\n",
            "\u001b[?25hRequirement already satisfied: psutil in /usr/local/lib/python3.10/dist-packages (from -r yolov5/requirements.txt (line 10)) (5.9.5)\n",
            "Requirement already satisfied: PyYAML>=5.3.1 in /usr/local/lib/python3.10/dist-packages (from -r yolov5/requirements.txt (line 11)) (6.0.1)\n",
            "Requirement already satisfied: requests>=2.23.0 in /usr/local/lib/python3.10/dist-packages (from -r yolov5/requirements.txt (line 12)) (2.31.0)\n",
            "Requirement already satisfied: scipy>=1.4.1 in /usr/local/lib/python3.10/dist-packages (from -r yolov5/requirements.txt (line 13)) (1.11.4)\n",
            "Collecting thop>=0.1.1 (from -r yolov5/requirements.txt (line 14))\n",
            "  Downloading thop-0.1.1.post2209072238-py3-none-any.whl (15 kB)\n",
            "Requirement already satisfied: torch>=1.8.0 in /usr/local/lib/python3.10/dist-packages (from -r yolov5/requirements.txt (line 15)) (2.1.0+cu121)\n",
            "Requirement already satisfied: torchvision>=0.9.0 in /usr/local/lib/python3.10/dist-packages (from -r yolov5/requirements.txt (line 16)) (0.16.0+cu121)\n",
            "Requirement already satisfied: tqdm>=4.64.0 in /usr/local/lib/python3.10/dist-packages (from -r yolov5/requirements.txt (line 17)) (4.66.1)\n",
            "Collecting ultralytics>=8.0.232 (from -r yolov5/requirements.txt (line 18))\n",
            "  Downloading ultralytics-8.0.235-py3-none-any.whl (677 kB)\n",
            "\u001b[2K     \u001b[90m━━━━━━━━━━━━━━━━━━━━━━━━━━━━━━━━━━━━━━━━\u001b[0m \u001b[32m677.8/677.8 kB\u001b[0m \u001b[31m28.2 MB/s\u001b[0m eta \u001b[36m0:00:00\u001b[0m\n",
            "\u001b[?25hRequirement already satisfied: pandas>=1.1.4 in /usr/local/lib/python3.10/dist-packages (from -r yolov5/requirements.txt (line 27)) (1.5.3)\n",
            "Requirement already satisfied: seaborn>=0.11.0 in /usr/local/lib/python3.10/dist-packages (from -r yolov5/requirements.txt (line 28)) (0.12.2)\n",
            "Requirement already satisfied: setuptools>=65.5.1 in /usr/local/lib/python3.10/dist-packages (from -r yolov5/requirements.txt (line 42)) (67.7.2)\n",
            "Collecting gitdb<5,>=4.0.1 (from gitpython>=3.1.30->-r yolov5/requirements.txt (line 5))\n",
            "  Downloading gitdb-4.0.11-py3-none-any.whl (62 kB)\n",
            "\u001b[2K     \u001b[90m━━━━━━━━━━━━━━━━━━━━━━━━━━━━━━━━━━━━━━━━\u001b[0m \u001b[32m62.7/62.7 kB\u001b[0m \u001b[31m7.7 MB/s\u001b[0m eta \u001b[36m0:00:00\u001b[0m\n",
            "\u001b[?25hRequirement already satisfied: contourpy>=1.0.1 in /usr/local/lib/python3.10/dist-packages (from matplotlib>=3.3->-r yolov5/requirements.txt (line 6)) (1.2.0)\n",
            "Requirement already satisfied: cycler>=0.10 in /usr/local/lib/python3.10/dist-packages (from matplotlib>=3.3->-r yolov5/requirements.txt (line 6)) (0.12.1)\n",
            "Requirement already satisfied: fonttools>=4.22.0 in /usr/local/lib/python3.10/dist-packages (from matplotlib>=3.3->-r yolov5/requirements.txt (line 6)) (4.47.0)\n",
            "Requirement already satisfied: kiwisolver>=1.0.1 in /usr/local/lib/python3.10/dist-packages (from matplotlib>=3.3->-r yolov5/requirements.txt (line 6)) (1.4.5)\n",
            "Requirement already satisfied: packaging>=20.0 in /usr/local/lib/python3.10/dist-packages (from matplotlib>=3.3->-r yolov5/requirements.txt (line 6)) (23.2)\n",
            "Requirement already satisfied: pyparsing>=2.3.1 in /usr/local/lib/python3.10/dist-packages (from matplotlib>=3.3->-r yolov5/requirements.txt (line 6)) (3.1.1)\n",
            "Requirement already satisfied: python-dateutil>=2.7 in /usr/local/lib/python3.10/dist-packages (from matplotlib>=3.3->-r yolov5/requirements.txt (line 6)) (2.8.2)\n",
            "Requirement already satisfied: charset-normalizer<4,>=2 in /usr/local/lib/python3.10/dist-packages (from requests>=2.23.0->-r yolov5/requirements.txt (line 12)) (3.3.2)\n",
            "Requirement already satisfied: idna<4,>=2.5 in /usr/local/lib/python3.10/dist-packages (from requests>=2.23.0->-r yolov5/requirements.txt (line 12)) (3.6)\n",
            "Requirement already satisfied: urllib3<3,>=1.21.1 in /usr/local/lib/python3.10/dist-packages (from requests>=2.23.0->-r yolov5/requirements.txt (line 12)) (2.0.7)\n",
            "Requirement already satisfied: certifi>=2017.4.17 in /usr/local/lib/python3.10/dist-packages (from requests>=2.23.0->-r yolov5/requirements.txt (line 12)) (2023.11.17)\n",
            "Requirement already satisfied: filelock in /usr/local/lib/python3.10/dist-packages (from torch>=1.8.0->-r yolov5/requirements.txt (line 15)) (3.13.1)\n",
            "Requirement already satisfied: typing-extensions in /usr/local/lib/python3.10/dist-packages (from torch>=1.8.0->-r yolov5/requirements.txt (line 15)) (4.5.0)\n",
            "Requirement already satisfied: sympy in /usr/local/lib/python3.10/dist-packages (from torch>=1.8.0->-r yolov5/requirements.txt (line 15)) (1.12)\n",
            "Requirement already satisfied: networkx in /usr/local/lib/python3.10/dist-packages (from torch>=1.8.0->-r yolov5/requirements.txt (line 15)) (3.2.1)\n",
            "Requirement already satisfied: jinja2 in /usr/local/lib/python3.10/dist-packages (from torch>=1.8.0->-r yolov5/requirements.txt (line 15)) (3.1.2)\n",
            "Requirement already satisfied: fsspec in /usr/local/lib/python3.10/dist-packages (from torch>=1.8.0->-r yolov5/requirements.txt (line 15)) (2023.6.0)\n",
            "Requirement already satisfied: triton==2.1.0 in /usr/local/lib/python3.10/dist-packages (from torch>=1.8.0->-r yolov5/requirements.txt (line 15)) (2.1.0)\n",
            "Requirement already satisfied: py-cpuinfo in /usr/local/lib/python3.10/dist-packages (from ultralytics>=8.0.232->-r yolov5/requirements.txt (line 18)) (9.0.0)\n",
            "Requirement already satisfied: pytz>=2020.1 in /usr/local/lib/python3.10/dist-packages (from pandas>=1.1.4->-r yolov5/requirements.txt (line 27)) (2023.3.post1)\n",
            "Collecting smmap<6,>=3.0.1 (from gitdb<5,>=4.0.1->gitpython>=3.1.30->-r yolov5/requirements.txt (line 5))\n",
            "  Downloading smmap-5.0.1-py3-none-any.whl (24 kB)\n",
            "Requirement already satisfied: six>=1.5 in /usr/local/lib/python3.10/dist-packages (from python-dateutil>=2.7->matplotlib>=3.3->-r yolov5/requirements.txt (line 6)) (1.16.0)\n",
            "Requirement already satisfied: MarkupSafe>=2.0 in /usr/local/lib/python3.10/dist-packages (from jinja2->torch>=1.8.0->-r yolov5/requirements.txt (line 15)) (2.1.3)\n",
            "Requirement already satisfied: mpmath>=0.19 in /usr/local/lib/python3.10/dist-packages (from sympy->torch>=1.8.0->-r yolov5/requirements.txt (line 15)) (1.3.0)\n",
            "Installing collected packages: smmap, Pillow, gitdb, thop, gitpython, ultralytics\n",
            "  Attempting uninstall: Pillow\n",
            "    Found existing installation: Pillow 9.4.0\n",
            "    Uninstalling Pillow-9.4.0:\n",
            "      Successfully uninstalled Pillow-9.4.0\n",
            "\u001b[31mERROR: pip's dependency resolver does not currently take into account all the packages that are installed. This behaviour is the source of the following dependency conflicts.\n",
            "imageio 2.31.6 requires pillow<10.1.0,>=8.3.2, but you have pillow 10.2.0 which is incompatible.\u001b[0m\u001b[31m\n",
            "\u001b[0mSuccessfully installed Pillow-10.2.0 gitdb-4.0.11 gitpython-3.1.40 smmap-5.0.1 thop-0.1.1.post2209072238 ultralytics-8.0.235\n"
          ]
        },
        {
          "data": {
            "application/vnd.colab-display-data+json": {
              "pip_warning": {
                "packages": [
                  "PIL"
                ]
              }
            }
          },
          "metadata": {},
          "output_type": "display_data"
        }
      ],
      "source": [
        "!git clone https://github.com/ultralytics/yolov5  # clone\n",
        "!pip install -r yolov5/requirements.txt  # install"
      ]
    },
    {
      "cell_type": "code",
      "execution_count": 11,
      "metadata": {
        "colab": {
          "base_uri": "https://localhost:8080/",
          "height": 697
        },
        "id": "2O7H2w0F7wAy",
        "outputId": "1f515851-7cdc-42ca-80d8-e80f152b816d"
      },
      "outputs": [
        {
          "name": "stdout",
          "output_type": "stream",
          "text": [
            "Collecting wandb\n",
            "  Downloading wandb-0.16.1-py3-none-any.whl (2.1 MB)\n",
            "\u001b[2K     \u001b[90m━━━━━━━━━━━━━━━━━━━━━━━━━━━━━━━━━━━━━━━━\u001b[0m \u001b[32m2.1/2.1 MB\u001b[0m \u001b[31m14.4 MB/s\u001b[0m eta \u001b[36m0:00:00\u001b[0m\n",
            "\u001b[?25hRequirement already satisfied: Click!=8.0.0,>=7.1 in /usr/local/lib/python3.10/dist-packages (from wandb) (8.1.7)\n",
            "Requirement already satisfied: GitPython!=3.1.29,>=1.0.0 in /usr/local/lib/python3.10/dist-packages (from wandb) (3.1.40)\n",
            "Requirement already satisfied: requests<3,>=2.0.0 in /usr/local/lib/python3.10/dist-packages (from wandb) (2.31.0)\n",
            "Requirement already satisfied: psutil>=5.0.0 in /usr/local/lib/python3.10/dist-packages (from wandb) (5.9.5)\n",
            "Collecting sentry-sdk>=1.0.0 (from wandb)\n",
            "  Downloading sentry_sdk-1.39.1-py2.py3-none-any.whl (254 kB)\n",
            "\u001b[2K     \u001b[90m━━━━━━━━━━━━━━━━━━━━━━━━━━━━━━━━━━━━━━━━\u001b[0m \u001b[32m254.1/254.1 kB\u001b[0m \u001b[31m18.1 MB/s\u001b[0m eta \u001b[36m0:00:00\u001b[0m\n",
            "\u001b[?25hCollecting docker-pycreds>=0.4.0 (from wandb)\n",
            "  Downloading docker_pycreds-0.4.0-py2.py3-none-any.whl (9.0 kB)\n",
            "Requirement already satisfied: PyYAML in /usr/local/lib/python3.10/dist-packages (from wandb) (6.0.1)\n",
            "Collecting setproctitle (from wandb)\n",
            "  Downloading setproctitle-1.3.3-cp310-cp310-manylinux_2_5_x86_64.manylinux1_x86_64.manylinux_2_17_x86_64.manylinux2014_x86_64.whl (30 kB)\n",
            "Requirement already satisfied: setuptools in /usr/local/lib/python3.10/dist-packages (from wandb) (67.7.2)\n",
            "Requirement already satisfied: appdirs>=1.4.3 in /usr/local/lib/python3.10/dist-packages (from wandb) (1.4.4)\n",
            "Requirement already satisfied: protobuf!=4.21.0,<5,>=3.19.0 in /usr/local/lib/python3.10/dist-packages (from wandb) (3.20.3)\n",
            "Requirement already satisfied: six>=1.4.0 in /usr/local/lib/python3.10/dist-packages (from docker-pycreds>=0.4.0->wandb) (1.16.0)\n",
            "Requirement already satisfied: gitdb<5,>=4.0.1 in /usr/local/lib/python3.10/dist-packages (from GitPython!=3.1.29,>=1.0.0->wandb) (4.0.11)\n",
            "Requirement already satisfied: charset-normalizer<4,>=2 in /usr/local/lib/python3.10/dist-packages (from requests<3,>=2.0.0->wandb) (3.3.2)\n",
            "Requirement already satisfied: idna<4,>=2.5 in /usr/local/lib/python3.10/dist-packages (from requests<3,>=2.0.0->wandb) (3.6)\n",
            "Requirement already satisfied: urllib3<3,>=1.21.1 in /usr/local/lib/python3.10/dist-packages (from requests<3,>=2.0.0->wandb) (2.0.7)\n",
            "Requirement already satisfied: certifi>=2017.4.17 in /usr/local/lib/python3.10/dist-packages (from requests<3,>=2.0.0->wandb) (2023.11.17)\n",
            "Requirement already satisfied: smmap<6,>=3.0.1 in /usr/local/lib/python3.10/dist-packages (from gitdb<5,>=4.0.1->GitPython!=3.1.29,>=1.0.0->wandb) (5.0.1)\n",
            "Installing collected packages: setproctitle, sentry-sdk, docker-pycreds, wandb\n",
            "Successfully installed docker-pycreds-0.4.0 sentry-sdk-1.39.1 setproctitle-1.3.3 wandb-0.16.1\n"
          ]
        },
        {
          "name": "stderr",
          "output_type": "stream",
          "text": [
            "\u001b[34m\u001b[1mwandb\u001b[0m: W&B API key is configured. Use \u001b[1m`wandb login --relogin`\u001b[0m to force relogin\n",
            "\u001b[34m\u001b[1mwandb\u001b[0m: \u001b[33mWARNING\u001b[0m If you're specifying your api key in code, ensure this code is not shared publicly.\n",
            "\u001b[34m\u001b[1mwandb\u001b[0m: \u001b[33mWARNING\u001b[0m Consider setting the WANDB_API_KEY environment variable, or running `wandb login` from the command line.\n",
            "\u001b[34m\u001b[1mwandb\u001b[0m: Appending key for api.wandb.ai to your netrc file: /root/.netrc\n",
            "\u001b[34m\u001b[1mwandb\u001b[0m: Currently logged in as: \u001b[33mdoanngoccuong\u001b[0m (\u001b[33mdoanngoccuong_nh\u001b[0m). Use \u001b[1m`wandb login --relogin`\u001b[0m to force relogin\n"
          ]
        },
        {
          "data": {
            "text/html": [
              "Tracking run with wandb version 0.16.1"
            ],
            "text/plain": [
              "<IPython.core.display.HTML object>"
            ]
          },
          "metadata": {},
          "output_type": "display_data"
        },
        {
          "data": {
            "text/html": [
              "Run data is saved locally in <code>/content/drive/MyDrive/colab/wandb/run-20240106_155641-oz66osnz</code>"
            ],
            "text/plain": [
              "<IPython.core.display.HTML object>"
            ]
          },
          "metadata": {},
          "output_type": "display_data"
        },
        {
          "data": {
            "text/html": [
              "Syncing run <strong><a href='https://wandb.ai/doanngoccuong_nh/uncategorized/runs/oz66osnz' target=\"_blank\">serene-glade-24</a></strong> to <a href='https://wandb.ai/doanngoccuong_nh/uncategorized' target=\"_blank\">Weights & Biases</a> (<a href='https://wandb.me/run' target=\"_blank\">docs</a>)<br/>"
            ],
            "text/plain": [
              "<IPython.core.display.HTML object>"
            ]
          },
          "metadata": {},
          "output_type": "display_data"
        },
        {
          "data": {
            "text/html": [
              " View project at <a href='https://wandb.ai/doanngoccuong_nh/uncategorized' target=\"_blank\">https://wandb.ai/doanngoccuong_nh/uncategorized</a>"
            ],
            "text/plain": [
              "<IPython.core.display.HTML object>"
            ]
          },
          "metadata": {},
          "output_type": "display_data"
        },
        {
          "data": {
            "text/html": [
              " View run at <a href='https://wandb.ai/doanngoccuong_nh/uncategorized/runs/oz66osnz' target=\"_blank\">https://wandb.ai/doanngoccuong_nh/uncategorized/runs/oz66osnz</a>"
            ],
            "text/plain": [
              "<IPython.core.display.HTML object>"
            ]
          },
          "metadata": {},
          "output_type": "display_data"
        },
        {
          "name": "stderr",
          "output_type": "stream",
          "text": [
            "\u001b[34m\u001b[1mwandb\u001b[0m:   1 of 1 files downloaded.  \n"
          ]
        }
      ],
      "source": [
        "# with model_best_10 epoch\n",
        "\n",
        "# Load trained model - 10 epochs KẾT QUẢ ĐÃ QUÁ LÀ ẤN TƯỢNG\n",
        "!pip install wandb\n",
        "import wandb\n",
        "\n",
        "wandb.login(key = \"c8767797aae76cbcd389ff29929ace1ac3021161\")    # key's DoanNgocCuong\n",
        "run = wandb.init()\n",
        "artifact = run.use_artifact('doanngoccuong_nh/FaceDetection_Yolov5/facedet_widerface_cfgyolov5_colab:v0', type='model')\n",
        "artifact_dir = artifact.download()\n",
        "\n",
        "\n"
      ]
    },
    {
      "cell_type": "markdown",
      "metadata": {
        "id": "jcKJ8St7UWPH"
      },
      "source": [
        "### 2.3.2 Model trained 110 epochs"
      ]
    },
    {
      "cell_type": "code",
      "execution_count": 12,
      "metadata": {
        "colab": {
          "base_uri": "https://localhost:8080/",
          "height": 225,
          "referenced_widgets": [
            "6c30b6d4818445579348a94285e07721",
            "a66d4f296a3f454297f03c93f2038bd9",
            "dbe56cf138b349fab1b02f71e53cb858",
            "18de70462f9047acb8d3e37b9e8e6664",
            "e715890b265d4533a04091875946d1ed",
            "a9cc18aa7c2d4efb977ffd9da35e523b",
            "30af274bc85b4aa78562c912f7c8d068",
            "5f75cdfd825f4cbca40aaec3b36468f6"
          ]
        },
        "id": "LXuPOlFbUjn3",
        "outputId": "d343190f-f141-425e-e255-3e16f90a86b8"
      },
      "outputs": [
        {
          "name": "stdout",
          "output_type": "stream",
          "text": [
            "/content/drive/MyDrive/colab\n"
          ]
        },
        {
          "data": {
            "text/html": [
              "Finishing last run (ID:oz66osnz) before initializing another..."
            ],
            "text/plain": [
              "<IPython.core.display.HTML object>"
            ]
          },
          "metadata": {},
          "output_type": "display_data"
        },
        {
          "data": {
            "application/vnd.jupyter.widget-view+json": {
              "model_id": "6c30b6d4818445579348a94285e07721",
              "version_major": 2,
              "version_minor": 0
            },
            "text/plain": [
              "VBox(children=(Label(value='0.001 MB of 0.001 MB uploaded\\r'), FloatProgress(value=1.0, max=1.0)))"
            ]
          },
          "metadata": {},
          "output_type": "display_data"
        },
        {
          "data": {
            "text/html": [
              " View run <strong style=\"color:#cdcd00\">serene-glade-24</strong> at: <a href='https://wandb.ai/doanngoccuong_nh/uncategorized/runs/oz66osnz' target=\"_blank\">https://wandb.ai/doanngoccuong_nh/uncategorized/runs/oz66osnz</a><br/>Synced 5 W&B file(s), 0 media file(s), 0 artifact file(s) and 0 other file(s)"
            ],
            "text/plain": [
              "<IPython.core.display.HTML object>"
            ]
          },
          "metadata": {},
          "output_type": "display_data"
        },
        {
          "data": {
            "text/html": [
              "Find logs at: <code>./wandb/run-20240106_155641-oz66osnz/logs</code>"
            ],
            "text/plain": [
              "<IPython.core.display.HTML object>"
            ]
          },
          "metadata": {},
          "output_type": "display_data"
        },
        {
          "data": {
            "text/html": [
              "Successfully finished last run (ID:oz66osnz). Initializing new run:<br/>"
            ],
            "text/plain": [
              "<IPython.core.display.HTML object>"
            ]
          },
          "metadata": {},
          "output_type": "display_data"
        },
        {
          "data": {
            "text/html": [
              "Tracking run with wandb version 0.16.1"
            ],
            "text/plain": [
              "<IPython.core.display.HTML object>"
            ]
          },
          "metadata": {},
          "output_type": "display_data"
        },
        {
          "data": {
            "text/html": [
              "Run data is saved locally in <code>/content/drive/MyDrive/colab/wandb/run-20240106_155646-xyum672p</code>"
            ],
            "text/plain": [
              "<IPython.core.display.HTML object>"
            ]
          },
          "metadata": {},
          "output_type": "display_data"
        },
        {
          "data": {
            "text/html": [
              "Syncing run <strong><a href='https://wandb.ai/doanngoccuong_nh/uncategorized/runs/xyum672p' target=\"_blank\">atomic-dawn-25</a></strong> to <a href='https://wandb.ai/doanngoccuong_nh/uncategorized' target=\"_blank\">Weights & Biases</a> (<a href='https://wandb.me/run' target=\"_blank\">docs</a>)<br/>"
            ],
            "text/plain": [
              "<IPython.core.display.HTML object>"
            ]
          },
          "metadata": {},
          "output_type": "display_data"
        },
        {
          "data": {
            "text/html": [
              " View project at <a href='https://wandb.ai/doanngoccuong_nh/uncategorized' target=\"_blank\">https://wandb.ai/doanngoccuong_nh/uncategorized</a>"
            ],
            "text/plain": [
              "<IPython.core.display.HTML object>"
            ]
          },
          "metadata": {},
          "output_type": "display_data"
        },
        {
          "data": {
            "text/html": [
              " View run at <a href='https://wandb.ai/doanngoccuong_nh/uncategorized/runs/xyum672p' target=\"_blank\">https://wandb.ai/doanngoccuong_nh/uncategorized/runs/xyum672p</a>"
            ],
            "text/plain": [
              "<IPython.core.display.HTML object>"
            ]
          },
          "metadata": {},
          "output_type": "display_data"
        },
        {
          "name": "stderr",
          "output_type": "stream",
          "text": [
            "\u001b[34m\u001b[1mwandb\u001b[0m:   1 of 1 files downloaded.  \n"
          ]
        }
      ],
      "source": [
        "# model trained 110 epochs\n",
        "%cd /content/drive/MyDrive/colab\n",
        "import wandb\n",
        "run = wandb.init()\n",
        "artifact = run.use_artifact('doanngoccuong_nh/FaceDetection_Yolov5/run_wtfobpvn_model:best_trained_110epos', type='model')\n",
        "artifact_dir = artifact.download()"
      ]
    },
    {
      "cell_type": "code",
      "execution_count": 13,
      "metadata": {
        "colab": {
          "base_uri": "https://localhost:8080/"
        },
        "id": "CFZb4rY273R0",
        "outputId": "d650d26a-887d-4d67-cdd0-99160ec428e9"
      },
      "outputs": [
        {
          "name": "stdout",
          "output_type": "stream",
          "text": [
            "/content/drive/MyDrive/colab/yolov5\n",
            "\u001b[34m\u001b[1mdetect: \u001b[0mweights=['/content/drive/MyDrive/colab/artifacts/run_wtfobpvn_model:v0/best.pt'], source=/content/doquanminh_2.jpg, data=data/coco128.yaml, imgsz=[640, 640], conf_thres=0.25, iou_thres=0.45, max_det=1000, device=, view_img=False, save_txt=True, save_csv=True, save_conf=True, save_crop=True, nosave=False, classes=None, agnostic_nms=False, augment=False, visualize=False, update=False, project=runs/detect, name=exp, exist_ok=False, line_thickness=3, hide_labels=False, hide_conf=False, half=False, dnn=False, vid_stride=1\n",
            "YOLOv5 🚀 v7.0-267-gc42aba5 Python-3.10.12 torch-2.1.0+cu121 CUDA:0 (Tesla T4, 15102MiB)\n",
            "\n",
            "Fusing layers... \n",
            "Model summary: 157 layers, 7012822 parameters, 0 gradients, 15.8 GFLOPs\n",
            "Traceback (most recent call last):\n",
            "  File \"/content/drive/MyDrive/colab/yolov5/detect.py\", line 295, in <module>\n",
            "    main(opt)\n",
            "  File \"/content/drive/MyDrive/colab/yolov5/detect.py\", line 290, in main\n",
            "    run(**vars(opt))\n",
            "  File \"/usr/local/lib/python3.10/dist-packages/torch/utils/_contextlib.py\", line 115, in decorate_context\n",
            "    return func(*args, **kwargs)\n",
            "  File \"/content/drive/MyDrive/colab/yolov5/detect.py\", line 114, in run\n",
            "    dataset = LoadImages(source, img_size=imgsz, stride=stride, auto=pt, vid_stride=vid_stride)\n",
            "  File \"/content/drive/MyDrive/colab/yolov5/utils/dataloaders.py\", line 284, in __init__\n",
            "    raise FileNotFoundError(f'{p} does not exist')\n",
            "FileNotFoundError: /content/doquanminh_2.jpg does not exist\n"
          ]
        }
      ],
      "source": [
        "# Infer real_test# Infer real_test\n",
        "# optional:  --img 640 --save-txt --save-conf (resize, save txt, save confident)\n",
        "# optional: --save-csv: predictions.csv (face, conf). --save-crop\n",
        "# OR Crop Detected Face use labels file txt: face_img = image[y1:y2, x1:x2] = image[y_min:y_max, x_min:x_max]\n",
        "\n",
        "%cd /content/drive/MyDrive/colab/yolov5\n",
        "!python detect.py --source /content/doquanminh_2.jpg \\\n",
        "                  --weights /content/drive/MyDrive/colab/artifacts/run_wtfobpvn_model:v0/best.pt \\\n",
        "                  --save-txt --save-conf --save-crop --save-csv\n"
      ]
    },
    {
      "cell_type": "markdown",
      "metadata": {
        "id": "l0zrfxqK76yZ"
      },
      "source": [
        "## 2.4 INFER - EVALUATION on BIG TESTSET"
      ]
    },
    {
      "cell_type": "markdown",
      "metadata": {
        "id": "H5qw4Av0Z3mn"
      },
      "source": [
        "```python\n",
        "# val.py\n",
        "def parse_opt():\n",
        "    parser = argparse.ArgumentParser()\n",
        "    parser.add_argument('--data', type=str, default=ROOT / 'data/coco128.yaml', help='dataset.yaml path')\n",
        "    parser.add_argument('--weights', nargs='+', type=str, default=ROOT / 'yolov5s.pt', help='model path(s)')\n",
        "    parser.add_argument('--batch-size', type=int, default=32, help='batch size')\n",
        "    parser.add_argument('--imgsz', '--img', '--img-size', type=int, default=640, help='inference size (pixels)')\n",
        "    parser.add_argument('--conf-thres', type=float, default=0.001, help='confidence threshold')\n",
        "    parser.add_argument('--iou-thres', type=float, default=0.6, help='NMS IoU threshold')\n",
        "    parser.add_argument('--max-det', type=int, default=300, help='maximum detections per image')\n",
        "    parser.add_argument('--task', default='val', help='train, val, test, speed or study')\n",
        "    parser.add_argument('--device', default='', help='cuda device, i.e. 0 or 0,1,2,3 or cpu')\n",
        "    parser.add_argument('--workers', type=int, default=8, help='max dataloader workers (per RANK in DDP mode)')\n",
        "    parser.add_argument('--single-cls', action='store_true', help='treat as single-class dataset')\n",
        "    parser.add_argument('--augment', action='store_true', help='augmented inference')\n",
        "    parser.add_argument('--verbose', action='store_true', help='report mAP by class')\n",
        "    parser.add_argument('--save-txt', action='store_true', help='save results to *.txt')\n",
        "    parser.add_argument('--save-hybrid', action='store_true', help='save label+prediction hybrid results to *.txt')\n",
        "    parser.add_argument('--save-conf', action='store_true', help='save confidences in --save-txt labels')\n",
        "    parser.add_argument('--save-json', action='store_true', help='save a COCO-JSON results file')\n",
        "    parser.add_argument('--project', default=ROOT / 'runs/val', help='save to project/name')\n",
        "    parser.add_argument('--name', default='exp', help='save to project/name')\n",
        "    parser.add_argument('--exist-ok', action='store_true', help='existing project/name ok, do not increment')\n",
        "    parser.add_argument('--half', action='store_true', help='use FP16 half-precision inference')\n",
        "    parser.add_argument('--dnn', action='store_true', help='use OpenCV DNN for ONNX inference')\n",
        "    opt = parser.parse_args()\n",
        "    opt.data = check_yaml(opt.data)  # check YAML\n",
        "    opt.save_json |= opt.data.endswith('coco.yaml')\n",
        "    opt.save_txt |= opt.save_hybrid\n",
        "    print_args(vars(opt))\n",
        "    return opt\n",
        "\n",
        "```"
      ]
    },
    {
      "cell_type": "markdown",
      "metadata": {
        "id": "KQ4KrFg3bZg9"
      },
      "source": [
        "### 2.4.1 Xem lại custom_dataset.yaml"
      ]
    },
    {
      "cell_type": "code",
      "execution_count": 27,
      "metadata": {
        "colab": {
          "base_uri": "https://localhost:8080/"
        },
        "id": "Y0XIsDbjbZAi",
        "outputId": "f9a7ff61-a6e2-441a-b826-f8c8052b33bf"
      },
      "outputs": [
        {
          "name": "stdout",
          "output_type": "stream",
          "text": [
            "mkdir: cannot create directory ‘/content/drive/MyDrive/colab/custom_dataset’: File exists\n"
          ]
        }
      ],
      "source": [
        "!mkdir /content/drive/MyDrive/colab/custom_dataset  # báo file exists code dưới vẫn chạy nhá\n",
        "\n",
        "# Create and write to a file (cách tạo file trong kaggle luôn rùi)\n",
        "with open('/content/drive/MyDrive/colab/custom_dataset/custom_dataset.yaml', 'w') as file:  # write ghi đè, a (append mode)\n",
        "    file.write(\"\"\"\n",
        "\n",
        "# train and val path: bắt buộc phải có trong .yaml   VÀ test: KO CÓ GIÁ TRỊ TRONG .yaml\n",
        "train: /content/drive/MyDrive/colab/custom_dataset/images_and_labels/images/train\n",
        "\n",
        "# val: /content/minh\n",
        "val: /content/drive/MyDrive/colab/custom_dataset/images_and_labels/images/test\n",
        "# val: /content/drive/MyDrive/colab/custom_dataset/images_and_labels/images/train\n",
        "\n",
        "\n",
        "# number of classes\n",
        "nc: 1\n",
        "# class names\n",
        "names: ['face']\n",
        "\"\"\")\n"
      ]
    },
    {
      "cell_type": "markdown",
      "metadata": {
        "id": "sjjpF1xkbgCr"
      },
      "source": [
        "### 2.4.2 Eval"
      ]
    },
    {
      "cell_type": "markdown",
      "metadata": {
        "id": "fTj-RF5YiT8J"
      },
      "source": [
        "- Reference: https://github.com/rafaelpadilla/Object-Detection-Metrics\n",
        "- https://github.com/ultralytics/yolov5/blob/master/val.py\n",
        "- https://github.com/ultralytics/yolov5/blob/master/utils/metrics.py\n",
        "\n",
        "Mean IOU là trung bình cộng của IOU cho tất cả các dự đoán đối tượng trong một tập dữ liệu."
      ]
    },
    {
      "cell_type": "code",
      "execution_count": 21,
      "metadata": {
        "colab": {
          "base_uri": "https://localhost:8080/",
          "height": 225,
          "referenced_widgets": [
            "d71860f0e8f2495abc61dd6e0773a8a4",
            "709114c29c794f39a9d574e1ba162692",
            "41f498cfc9c74e899a6df0d4e0be5d1f",
            "2e1ca7bd57124487b1e97e1699842a4f",
            "28848dcd3d50426896b7871f0c43db0e",
            "509e8963a2bb439684a42c5c23003578",
            "68731bc2845a4ca79afe78352840f1e3",
            "406812818b714dbc98141ead09f337ed"
          ]
        },
        "id": "4wR1ZowcVy4t",
        "outputId": "d7a112d2-482f-4ca9-85c7-7b9e4bd657ef"
      },
      "outputs": [
        {
          "name": "stdout",
          "output_type": "stream",
          "text": [
            "/content/drive/MyDrive/colab\n"
          ]
        },
        {
          "data": {
            "text/html": [
              "Finishing last run (ID:wqtxjqgb) before initializing another..."
            ],
            "text/plain": [
              "<IPython.core.display.HTML object>"
            ]
          },
          "metadata": {},
          "output_type": "display_data"
        },
        {
          "data": {
            "application/vnd.jupyter.widget-view+json": {
              "model_id": "d71860f0e8f2495abc61dd6e0773a8a4",
              "version_major": 2,
              "version_minor": 0
            },
            "text/plain": [
              "VBox(children=(Label(value='0.001 MB of 0.001 MB uploaded\\r'), FloatProgress(value=1.0, max=1.0)))"
            ]
          },
          "metadata": {},
          "output_type": "display_data"
        },
        {
          "data": {
            "text/html": [
              " View run <strong style=\"color:#cdcd00\">good-music-26</strong> at: <a href='https://wandb.ai/doanngoccuong_nh/uncategorized/runs/wqtxjqgb' target=\"_blank\">https://wandb.ai/doanngoccuong_nh/uncategorized/runs/wqtxjqgb</a><br/>Synced 5 W&B file(s), 0 media file(s), 0 artifact file(s) and 0 other file(s)"
            ],
            "text/plain": [
              "<IPython.core.display.HTML object>"
            ]
          },
          "metadata": {},
          "output_type": "display_data"
        },
        {
          "data": {
            "text/html": [
              "Find logs at: <code>./wandb/run-20240106_155728-wqtxjqgb/logs</code>"
            ],
            "text/plain": [
              "<IPython.core.display.HTML object>"
            ]
          },
          "metadata": {},
          "output_type": "display_data"
        },
        {
          "data": {
            "text/html": [
              "Successfully finished last run (ID:wqtxjqgb). Initializing new run:<br/>"
            ],
            "text/plain": [
              "<IPython.core.display.HTML object>"
            ]
          },
          "metadata": {},
          "output_type": "display_data"
        },
        {
          "data": {
            "text/html": [
              "Tracking run with wandb version 0.16.1"
            ],
            "text/plain": [
              "<IPython.core.display.HTML object>"
            ]
          },
          "metadata": {},
          "output_type": "display_data"
        },
        {
          "data": {
            "text/html": [
              "Run data is saved locally in <code>/content/drive/MyDrive/colab/wandb/run-20240106_160151-dympzqpf</code>"
            ],
            "text/plain": [
              "<IPython.core.display.HTML object>"
            ]
          },
          "metadata": {},
          "output_type": "display_data"
        },
        {
          "data": {
            "text/html": [
              "Syncing run <strong><a href='https://wandb.ai/doanngoccuong_nh/uncategorized/runs/dympzqpf' target=\"_blank\">smooth-vortex-27</a></strong> to <a href='https://wandb.ai/doanngoccuong_nh/uncategorized' target=\"_blank\">Weights & Biases</a> (<a href='https://wandb.me/run' target=\"_blank\">docs</a>)<br/>"
            ],
            "text/plain": [
              "<IPython.core.display.HTML object>"
            ]
          },
          "metadata": {},
          "output_type": "display_data"
        },
        {
          "data": {
            "text/html": [
              " View project at <a href='https://wandb.ai/doanngoccuong_nh/uncategorized' target=\"_blank\">https://wandb.ai/doanngoccuong_nh/uncategorized</a>"
            ],
            "text/plain": [
              "<IPython.core.display.HTML object>"
            ]
          },
          "metadata": {},
          "output_type": "display_data"
        },
        {
          "data": {
            "text/html": [
              " View run at <a href='https://wandb.ai/doanngoccuong_nh/uncategorized/runs/dympzqpf' target=\"_blank\">https://wandb.ai/doanngoccuong_nh/uncategorized/runs/dympzqpf</a>"
            ],
            "text/plain": [
              "<IPython.core.display.HTML object>"
            ]
          },
          "metadata": {},
          "output_type": "display_data"
        },
        {
          "name": "stderr",
          "output_type": "stream",
          "text": [
            "\u001b[34m\u001b[1mwandb\u001b[0m:   1 of 1 files downloaded.  \n"
          ]
        }
      ],
      "source": [
        "# model trained 110 epochs\n",
        "%cd /content/drive/MyDrive/colab\n",
        "import wandb\n",
        "run = wandb.init()\n",
        "artifact = run.use_artifact('doanngoccuong_nh/FaceDetection_Yolov5/run_wtfobpvn_model:best_trained_110epos', type='model')\n",
        "artifact_dir = artifact.download()"
      ]
    },
    {
      "cell_type": "code",
      "execution_count": 15,
      "metadata": {
        "id": "hfgk860MbR7s"
      },
      "outputs": [],
      "source": []
    },
    {
      "cell_type": "code",
      "execution_count": 35,
      "metadata": {
        "colab": {
          "base_uri": "https://localhost:8080/"
        },
        "id": "uqFD2jgCVqwJ",
        "outputId": "106fab99-b38f-487a-e370-38fa8042019b"
      },
      "outputs": [
        {
          "name": "stdout",
          "output_type": "stream",
          "text": [
            "/content/drive/MyDrive/colab/yolov5\n",
            "\u001b[34m\u001b[1mval: \u001b[0mdata=/content/drive/MyDrive/colab/custom_dataset/custom_dataset.yaml, weights=['/content/drive/MyDrive/colab/artifacts/run_wtfobpvn_model:v0/best.pt'], batch_size=32, imgsz=640, conf_thres=0.001, iou_thres=0.5, max_det=300, task=val, device=, workers=8, single_cls=False, augment=False, verbose=False, save_txt=False, save_hybrid=False, save_conf=False, save_json=False, project=runs/val, name=exp, exist_ok=False, half=False, dnn=False\n",
            "YOLOv5 🚀 v7.0-267-gc42aba5 Python-3.10.12 torch-2.1.0+cu121 CUDA:0 (Tesla T4, 15102MiB)\n",
            "\n",
            "Fusing layers... \n",
            "Model summary: 157 layers, 7012822 parameters, 0 gradients, 15.8 GFLOPs\n",
            "\u001b[34m\u001b[1mval: \u001b[0mScanning /content/drive/MyDrive/colab/custom_dataset/images_and_labels/labels/train.cache... 1000 images, 0 backgrounds, 0 corrupt: 100% 1000/1000 [00:00<?, ?it/s]\n",
            "                 Class     Images  Instances          P          R      mAP50   mAP50-95: 100% 32/32 [00:31<00:00,  1.02it/s]\n",
            "                   all       1000       1000      0.891      0.912      0.885      0.258\n",
            "Speed: 0.2ms pre-process, 5.4ms inference, 4.2ms NMS per image at shape (32, 3, 640, 640)\n",
            "Results saved to \u001b[1mruns/val/exp18\u001b[0m\n"
          ]
        }
      ],
      "source": [
        "# train and val path: bắt buộc phải có trong .yaml   VÀ test: KO CÓ GIÁ TRỊ TRONG .yaml\n",
        "# Đảm bảo cấu hình đồng nhất, dễ quản lý, không cần thay đổi file cấu hình khi chuyển giữa đào tạo và đánh giá.\n",
        "# Cho phép script kiểm tra tính hợp lệ của cấu hình và sử dụng thông tin về lớp từ tập đào tạo để xác minh dữ liệu đánh giá.\n",
        "# Hỗ trợ các hành động nâng cao trong quá trình đánh giá, như fine-tuning hoặc các phép đo đánh giá khác.\n",
        "\n",
        "# train: /content/drive/MyDrive/colab/custom_dataset/images_and_labels/images/train\n",
        "# val: /content/drive/MyDrive/colab/custom_dataset/images_and_labels/images/test\n",
        "# or\n",
        "# train: /content/drive/MyDrive/colab/custom_dataset/images_and_labels/images/test\n",
        "# val: /content/drive/MyDrive/colab/custom_dataset/images_and_labels/images/test\n",
        "# RA CÙNG 1 KẾT QUẢ\n",
        "\n",
        "with open('/content/drive/MyDrive/colab/custom_dataset/custom_dataset.yaml', 'w') as file:  # write ghi đè, a (append mode)\n",
        "    file.write(\"\"\"\n",
        "train: /content/drive/MyDrive/colab/custom_dataset/images_and_labels/images/train\n",
        "val: /content/drive/MyDrive/colab/custom_dataset/images_and_labels/images/train\n",
        "nc: 1\n",
        "names: ['face']\n",
        "\"\"\")\n",
        "\n",
        "%cd /content/drive/MyDrive/colab/yolov5\n",
        "!python val.py --weights /content/drive/MyDrive/colab/artifacts/run_wtfobpvn_model:v0/best.pt \\\n",
        "              --data /content/drive/MyDrive/colab/custom_dataset/custom_dataset.yaml \\\n",
        "              --img 640 --batch-size 32 --conf-thres 0.001 --iou-thres 0.5 \\\n",
        "\n",
        "# --save-txt --save-hybrid --save-conf --save-json  (results.txt: label, x_center, y_center, width, height, conf)\n",
        "\n"
      ]
    },
    {
      "cell_type": "markdown",
      "metadata": {
        "id": "lPsPtShjsM-d"
      },
      "source": [
        "Dòng 287\n",
        "    # Print results\n",
        "    pf = '%22s' + '%11i' * 2 + '%11.3g' * 4  # print format\n",
        "    LOGGER.info(pf % ('all', seen, nt.sum(), mp, mr, map50, map))\n",
        "    if nt.sum() == 0:\n",
        "        LOGGER.warning(f'WARNING ⚠️ no labels found in {task} set, can not compute metrics without labels')\n"
      ]
    },
    {
      "cell_type": "markdown",
      "metadata": {
        "id": "0WnJjbiVsb73"
      },
      "source": [
        "### 2.4.3 Detail Metrics"
      ]
    },
    {
      "cell_type": "markdown",
      "metadata": {
        "id": "slnuyUNtsfbT"
      },
      "source": [
        "Các chỉ số mAP@0.5 và mAP@0.5:0.95 đều có liên quan mật thiết đến IOU (Intersection over Union), và đây là cách chúng được tính toán:\n",
        "\n",
        "### IOU (Intersection over Union)\n",
        "IOU là tỷ lệ giữa khu vực giao nhau (intersection) và khu vực hợp nhau (union) của bounding box dự đoán và bounding box thực tế (ground truth):\n",
        "$$\n",
        "IOU = \\frac{\\text{Area of Overlap}}{\\text{Area of Union}}\n",
        "$$\n",
        "\n",
        "### Precision (Độ chính xác)\n",
        "Precision là tỷ lệ giữa số lượng dự đoán đúng (true positives) và tổng số dự đoán đúng và sai (true positives + false positives):\n",
        "$$\n",
        "\\text{Precision} = \\frac{\\text{True Positives}}{\\text{True Positives} + \\text{False Positives}}\n",
        "$$\n",
        "\n",
        "### Recall (Độ phủ)\n",
        "Recall là tỷ lệ giữa số lượng dự đoán đúng và tổng số trường hợp thực tế (true positives + false negatives):\n",
        "$$\n",
        "\\text{Recall} = \\frac{\\text{True Positives}}{\\text{True Positives} + \\text{False Negatives}}\n",
        "$$\n",
        "\n",
        "### F1 Score\n",
        "F1 Score là trung bình điều hòa của Precision và Recall:\n",
        "$$\n",
        "\\text{F1} = 2 \\cdot \\frac{\\text{Precision} \\cdot \\text{Recall}}{\\text{Precision} + \\text{Recall}}\n",
        "$$\n",
        "\n",
        "### mAP@0.5 (mean Average Precision at IOU 0.5)\n",
        "mAP@0.5 là trung bình của Average Precision (AP) cho tất cả các lớp tại ngưỡng IOU = 0.5. AP cho một lớp được tính bằng cách tính diện tích dưới đường cong Precision-Recall, và sau đó lấy trung bình cho tất cả các lớp.\n",
        "\n",
        "### mAP@0.5:0.95\n",
        "mAP@0.5:0.95 là trung bình của AP được tính cho các ngưỡng IOU từ 0.5 đến 0.95 (thường là tại các ngưỡng 0.5, 0.55, ..., 0.95). Điều này cho một cái nhìn toàn diện hơn về hiệu suất của mô hình trên nhiều ngưỡng IOU khác nhau, không chỉ tại một ngưỡng cụ thể.\n",
        "\n",
        "Công thức tính AP cho mỗi lớp có thể được viết như sau:\n",
        "$$\n",
        "\\text{AP} = \\int_{0}^{1} p(r) dr\n",
        "$$\n",
        "trong đó \\( p(r) \\) là hàm Precision theo Recall \\( r \\). Đối với mAP@0.5:0.95, AP được tính tại mỗi IOU từ 0.5 đến 0.95 và sau đó lấy trung bình các giá trị AP này.\n",
        "\n",
        "Để tính toán mAP, bạn thường cần một tập hợp các dự đoán đã được sắp xếp theo độ tin cậy và thực hiện Non-Maximum Suppression (NMS) sử dụng ngưỡng IOU cụ thể để loại bỏ các bounding box chồng lấp. Sau đó, bạn sử dụng các dự đoán còn lại để tính Precision và Recall ở nhiều ngưỡng độ tin cậy, từ đó vẽ đường cong Precision-Recall và tính diện tích dưới đường cong (AUC) để có được AP. Mỗi AP tại một ngưỡng IOU cụ thể sẽ đóng góp vào tính toán mAP cuối cùng."
      ]
    },
    {
      "cell_type": "markdown",
      "metadata": {
        "id": "NwpcL3aausTh"
      },
      "source": [
        "\n",
        "Để có thêm thông tin về IOU trong kết quả đầu ra của YOLOv5 khi chạy `val.py`,\n",
        "\n",
        "1. **Tính toán IOU**: Thêm mã để tính toán IOU cho mỗi dự đoán đúng (true positive) và lưu trữ kết quả.\n",
        "\n",
        "2. **Chỉnh sửa hàm `process_batch`**: Hàm này xử lý từng batch của dự đoán và nhãn, nơi bạn có thể thêm tính toán IOU cụ thể cho mỗi dự đoán đối với nhãn đích thực của nó.\n",
        "\n",
        "3. **Hiển thị IOU**: Sau khi tính toán IOU, bạn có thể thêm chúng vào bảng kết quả cuối cùng được in ra màn hình hoặc lưu vào tệp.\n",
        "\n",
        "Dưới đây là một ví dụ cách bạn có thể sửa đổi mã để thực hiện điều này:\n",
        "\n",
        "### Bước 1: Tính IOU Trong `process_batch`\n",
        "Bạn cần chỉnh sửa hàm `process_batch` để trả về cả IOU của mỗi dự đoán đối với ground truth. Hãy tìm hàm `process_batch` trong mã và sửa đổi nó để tính toán và trả về IOU.\n",
        "\n",
        "### Bước 2: Hiển thị IOU\n",
        "Trong vòng lặp chính của `val.py` nơi kết quả được thu thập và in ra, bạn có thể thêm IOU vào đầu ra.\n",
        "\n",
        "### Bước 3: In IOU Trong Đầu Ra\n",
        "Sau khi đã có IOU được tính toán, thêm nó vào thông báo LOGGER hoặc in nó ra màn hình tại vị trí phù hợp.\n",
        "\n",
        "Mã giả phía dưới sẽ giúp bạn hình dung cách tiếp cận:\n",
        "\n",
        "```python\n",
        "# ... mã trước đó ...\n",
        "\n",
        "def process_batch(detections, labels, iouv):\n",
        "    # ... mã đã có ...\n",
        "    # Tính toán IOU tại đây và trả về kết quả\n",
        "    ious = box_iou(labels[:, 1:], detections[:, :4])  # Tính IOU giữa dự đoán và labels\n",
        "    return torch.tensor(correct, dtype=torch.bool, device=iouv.device), ious\n",
        "\n",
        "# ... mã sau đó ...\n",
        "\n",
        "# Trong vòng lặp chính của val.py, sau khi gọi process_batch\n",
        "ious = []  # Danh sách để giữ tất cả IOU\n",
        "for batch_i, (im, targets, paths, shapes) in enumerate(pbar):\n",
        "    # ... mã đã có ...\n",
        "    correct, iou = process_batch(predn, labelsn, iouv)  # Nhận IOU từ process_batch\n",
        "    ious.append(iou)  # Thêm IOU vào danh sách\n",
        "\n",
        "# ... mã sau đó ...\n",
        "\n",
        "# Khi in kết quả ra màn hình\n",
        "ious = torch.cat(ious, 0)  # Ghép tất cả IOU lại với nhau\n",
        "mean_iou = ious.mean().item()  # Tính mean IOU\n",
        "LOGGER.info(f\"Mean IOU: {mean_iou:.4f}\")  # In Mean IOU ra màn hình\n",
        "```\n",
        "\n",
        "\n",
        "Để thêm thông tin IOU vào LOGGER trong đoạn mã bạn đã cung cấp, bạn sẽ cần lưu trữ các giá trị IOU từ mỗi batch và sau đó tính toán giá trị trung bình của chúng. Đây là cách bạn có thể thực hiện:\n",
        "\n",
        "1. **Tính IOU cho Mỗi Dự Đoán**: Bạn cần sửa đổi hàm `process_batch` để trả về IOU cho mỗi dự đoán đối với nhãn đích thực của nó, như đã mô tả trước đây.\n",
        "\n",
        "2. **Lưu Trữ và Tính IOU Trung Bình**: Trong vòng lặp chính xử lý từng batch, lưu trữ các giá trị IOU vào một danh sách hoặc tensor.\n",
        "\n",
        "3. **Log IOU Trung Bình**: Sau khi hoàn thành vòng lặp xử lý tất cả batches, tính IOU trung bình và sử dụng LOGGER để in nó ra.\n",
        "\n",
        "Đây là cách bạn có thể thực hiện:\n",
        "\n",
        "```python\n",
        "# ... mã trước đó ...\n",
        "\n",
        "ious = []  # Khởi tạo danh sách để lưu IOU\n",
        "for batch_i, (im, targets, paths, shapes) in enumerate(pbar):\n",
        "    # ... mã đã có ...\n",
        "    correct, iou = process_batch(predn, labelsn, iouv)  # Nhận IOU từ process_batch\n",
        "    ious.append(iou)  # Lưu IOU vào danh sách\n",
        "\n",
        "# ... mã sau đó ...\n",
        "\n",
        "# Sau khi xử lý tất cả batches, tính IOU trung bình\n",
        "mean_iou = np.concatenate(ious, 0).mean() if ious else 0\n",
        "LOGGER.info(f'Mean IOU: {mean_iou:.4f}')  # Log IOU trung bình\n",
        "```\n",
        "\n",
        "Trong đoạn mã trên, `ious` là một danh sách chứa các giá trị IOU từ mỗi dự đoán đúng. Sau khi vòng lặp chính kết thúc, chúng ta sẽ tính giá trị trung bình của tất cả giá trị IOU và sau đó in ra thông qua LOGGER.\n",
        "\n",
        "Hãy nhớ rằng các thay đổi mã nguồn cần phải được kiểm tra cẩn thận để đảm bảo tính chính xác và không làm hỏng bất kỳ chức năng hiện có nào. Ngoài ra, phần `if ious` kiểm tra xem có ít nhất một phần tử trong danh sách `ious` trước khi cố gắng tính toán mean để tránh lỗi nếu không có giá trị IOU nào (trường hợp không có dự đoán nào đúng)."
      ]
    }
  ],
  "metadata": {
    "accelerator": "GPU",
    "colab": {
      "gpuType": "T4",
      "provenance": [],
      "toc_visible": true
    },
    "kaggle": {
      "accelerator": "nvidiaTeslaT4",
      "dataSources": [
        {
          "datasetId": 4253223,
          "sourceId": 7327663,
          "sourceType": "datasetVersion"
        }
      ],
      "dockerImageVersionId": 30627,
      "isGpuEnabled": true,
      "isInternetEnabled": true,
      "language": "python",
      "sourceType": "notebook"
    },
    "kernelspec": {
      "display_name": "Python 3",
      "name": "python3"
    },
    "language_info": {
      "codemirror_mode": {
        "name": "ipython",
        "version": 3
      },
      "file_extension": ".py",
      "mimetype": "text/x-python",
      "name": "python",
      "nbconvert_exporter": "python",
      "pygments_lexer": "ipython3",
      "version": "3.10.12"
    },
    "widgets": {
      "application/vnd.jupyter.widget-state+json": {
        "18de70462f9047acb8d3e37b9e8e6664": {
          "model_module": "@jupyter-widgets/base",
          "model_module_version": "1.2.0",
          "model_name": "LayoutModel",
          "state": {
            "_model_module": "@jupyter-widgets/base",
            "_model_module_version": "1.2.0",
            "_model_name": "LayoutModel",
            "_view_count": null,
            "_view_module": "@jupyter-widgets/base",
            "_view_module_version": "1.2.0",
            "_view_name": "LayoutView",
            "align_content": null,
            "align_items": null,
            "align_self": null,
            "border": null,
            "bottom": null,
            "display": null,
            "flex": null,
            "flex_flow": null,
            "grid_area": null,
            "grid_auto_columns": null,
            "grid_auto_flow": null,
            "grid_auto_rows": null,
            "grid_column": null,
            "grid_gap": null,
            "grid_row": null,
            "grid_template_areas": null,
            "grid_template_columns": null,
            "grid_template_rows": null,
            "height": null,
            "justify_content": null,
            "justify_items": null,
            "left": null,
            "margin": null,
            "max_height": null,
            "max_width": null,
            "min_height": null,
            "min_width": null,
            "object_fit": null,
            "object_position": null,
            "order": null,
            "overflow": null,
            "overflow_x": null,
            "overflow_y": null,
            "padding": null,
            "right": null,
            "top": null,
            "visibility": null,
            "width": null
          }
        },
        "28848dcd3d50426896b7871f0c43db0e": {
          "model_module": "@jupyter-widgets/base",
          "model_module_version": "1.2.0",
          "model_name": "LayoutModel",
          "state": {
            "_model_module": "@jupyter-widgets/base",
            "_model_module_version": "1.2.0",
            "_model_name": "LayoutModel",
            "_view_count": null,
            "_view_module": "@jupyter-widgets/base",
            "_view_module_version": "1.2.0",
            "_view_name": "LayoutView",
            "align_content": null,
            "align_items": null,
            "align_self": null,
            "border": null,
            "bottom": null,
            "display": null,
            "flex": null,
            "flex_flow": null,
            "grid_area": null,
            "grid_auto_columns": null,
            "grid_auto_flow": null,
            "grid_auto_rows": null,
            "grid_column": null,
            "grid_gap": null,
            "grid_row": null,
            "grid_template_areas": null,
            "grid_template_columns": null,
            "grid_template_rows": null,
            "height": null,
            "justify_content": null,
            "justify_items": null,
            "left": null,
            "margin": null,
            "max_height": null,
            "max_width": null,
            "min_height": null,
            "min_width": null,
            "object_fit": null,
            "object_position": null,
            "order": null,
            "overflow": null,
            "overflow_x": null,
            "overflow_y": null,
            "padding": null,
            "right": null,
            "top": null,
            "visibility": null,
            "width": null
          }
        },
        "2e1ca7bd57124487b1e97e1699842a4f": {
          "model_module": "@jupyter-widgets/base",
          "model_module_version": "1.2.0",
          "model_name": "LayoutModel",
          "state": {
            "_model_module": "@jupyter-widgets/base",
            "_model_module_version": "1.2.0",
            "_model_name": "LayoutModel",
            "_view_count": null,
            "_view_module": "@jupyter-widgets/base",
            "_view_module_version": "1.2.0",
            "_view_name": "LayoutView",
            "align_content": null,
            "align_items": null,
            "align_self": null,
            "border": null,
            "bottom": null,
            "display": null,
            "flex": null,
            "flex_flow": null,
            "grid_area": null,
            "grid_auto_columns": null,
            "grid_auto_flow": null,
            "grid_auto_rows": null,
            "grid_column": null,
            "grid_gap": null,
            "grid_row": null,
            "grid_template_areas": null,
            "grid_template_columns": null,
            "grid_template_rows": null,
            "height": null,
            "justify_content": null,
            "justify_items": null,
            "left": null,
            "margin": null,
            "max_height": null,
            "max_width": null,
            "min_height": null,
            "min_width": null,
            "object_fit": null,
            "object_position": null,
            "order": null,
            "overflow": null,
            "overflow_x": null,
            "overflow_y": null,
            "padding": null,
            "right": null,
            "top": null,
            "visibility": null,
            "width": null
          }
        },
        "30af274bc85b4aa78562c912f7c8d068": {
          "model_module": "@jupyter-widgets/base",
          "model_module_version": "1.2.0",
          "model_name": "LayoutModel",
          "state": {
            "_model_module": "@jupyter-widgets/base",
            "_model_module_version": "1.2.0",
            "_model_name": "LayoutModel",
            "_view_count": null,
            "_view_module": "@jupyter-widgets/base",
            "_view_module_version": "1.2.0",
            "_view_name": "LayoutView",
            "align_content": null,
            "align_items": null,
            "align_self": null,
            "border": null,
            "bottom": null,
            "display": null,
            "flex": null,
            "flex_flow": null,
            "grid_area": null,
            "grid_auto_columns": null,
            "grid_auto_flow": null,
            "grid_auto_rows": null,
            "grid_column": null,
            "grid_gap": null,
            "grid_row": null,
            "grid_template_areas": null,
            "grid_template_columns": null,
            "grid_template_rows": null,
            "height": null,
            "justify_content": null,
            "justify_items": null,
            "left": null,
            "margin": null,
            "max_height": null,
            "max_width": null,
            "min_height": null,
            "min_width": null,
            "object_fit": null,
            "object_position": null,
            "order": null,
            "overflow": null,
            "overflow_x": null,
            "overflow_y": null,
            "padding": null,
            "right": null,
            "top": null,
            "visibility": null,
            "width": null
          }
        },
        "406812818b714dbc98141ead09f337ed": {
          "model_module": "@jupyter-widgets/controls",
          "model_module_version": "1.5.0",
          "model_name": "ProgressStyleModel",
          "state": {
            "_model_module": "@jupyter-widgets/controls",
            "_model_module_version": "1.5.0",
            "_model_name": "ProgressStyleModel",
            "_view_count": null,
            "_view_module": "@jupyter-widgets/base",
            "_view_module_version": "1.2.0",
            "_view_name": "StyleView",
            "bar_color": null,
            "description_width": ""
          }
        },
        "41f498cfc9c74e899a6df0d4e0be5d1f": {
          "model_module": "@jupyter-widgets/controls",
          "model_module_version": "1.5.0",
          "model_name": "FloatProgressModel",
          "state": {
            "_dom_classes": [],
            "_model_module": "@jupyter-widgets/controls",
            "_model_module_version": "1.5.0",
            "_model_name": "FloatProgressModel",
            "_view_count": null,
            "_view_module": "@jupyter-widgets/controls",
            "_view_module_version": "1.5.0",
            "_view_name": "ProgressView",
            "bar_style": "",
            "description": "",
            "description_tooltip": null,
            "layout": "IPY_MODEL_68731bc2845a4ca79afe78352840f1e3",
            "max": 1,
            "min": 0,
            "orientation": "horizontal",
            "style": "IPY_MODEL_406812818b714dbc98141ead09f337ed",
            "value": 1
          }
        },
        "509e8963a2bb439684a42c5c23003578": {
          "model_module": "@jupyter-widgets/controls",
          "model_module_version": "1.5.0",
          "model_name": "DescriptionStyleModel",
          "state": {
            "_model_module": "@jupyter-widgets/controls",
            "_model_module_version": "1.5.0",
            "_model_name": "DescriptionStyleModel",
            "_view_count": null,
            "_view_module": "@jupyter-widgets/base",
            "_view_module_version": "1.2.0",
            "_view_name": "StyleView",
            "description_width": ""
          }
        },
        "5f75cdfd825f4cbca40aaec3b36468f6": {
          "model_module": "@jupyter-widgets/controls",
          "model_module_version": "1.5.0",
          "model_name": "ProgressStyleModel",
          "state": {
            "_model_module": "@jupyter-widgets/controls",
            "_model_module_version": "1.5.0",
            "_model_name": "ProgressStyleModel",
            "_view_count": null,
            "_view_module": "@jupyter-widgets/base",
            "_view_module_version": "1.2.0",
            "_view_name": "StyleView",
            "bar_color": null,
            "description_width": ""
          }
        },
        "68731bc2845a4ca79afe78352840f1e3": {
          "model_module": "@jupyter-widgets/base",
          "model_module_version": "1.2.0",
          "model_name": "LayoutModel",
          "state": {
            "_model_module": "@jupyter-widgets/base",
            "_model_module_version": "1.2.0",
            "_model_name": "LayoutModel",
            "_view_count": null,
            "_view_module": "@jupyter-widgets/base",
            "_view_module_version": "1.2.0",
            "_view_name": "LayoutView",
            "align_content": null,
            "align_items": null,
            "align_self": null,
            "border": null,
            "bottom": null,
            "display": null,
            "flex": null,
            "flex_flow": null,
            "grid_area": null,
            "grid_auto_columns": null,
            "grid_auto_flow": null,
            "grid_auto_rows": null,
            "grid_column": null,
            "grid_gap": null,
            "grid_row": null,
            "grid_template_areas": null,
            "grid_template_columns": null,
            "grid_template_rows": null,
            "height": null,
            "justify_content": null,
            "justify_items": null,
            "left": null,
            "margin": null,
            "max_height": null,
            "max_width": null,
            "min_height": null,
            "min_width": null,
            "object_fit": null,
            "object_position": null,
            "order": null,
            "overflow": null,
            "overflow_x": null,
            "overflow_y": null,
            "padding": null,
            "right": null,
            "top": null,
            "visibility": null,
            "width": null
          }
        },
        "6c30b6d4818445579348a94285e07721": {
          "model_module": "@jupyter-widgets/controls",
          "model_module_version": "1.5.0",
          "model_name": "VBoxModel",
          "state": {
            "_dom_classes": [],
            "_model_module": "@jupyter-widgets/controls",
            "_model_module_version": "1.5.0",
            "_model_name": "VBoxModel",
            "_view_count": null,
            "_view_module": "@jupyter-widgets/controls",
            "_view_module_version": "1.5.0",
            "_view_name": "VBoxView",
            "box_style": "",
            "children": [
              "IPY_MODEL_a66d4f296a3f454297f03c93f2038bd9",
              "IPY_MODEL_dbe56cf138b349fab1b02f71e53cb858"
            ],
            "layout": "IPY_MODEL_18de70462f9047acb8d3e37b9e8e6664"
          }
        },
        "709114c29c794f39a9d574e1ba162692": {
          "model_module": "@jupyter-widgets/controls",
          "model_module_version": "1.5.0",
          "model_name": "LabelModel",
          "state": {
            "_dom_classes": [],
            "_model_module": "@jupyter-widgets/controls",
            "_model_module_version": "1.5.0",
            "_model_name": "LabelModel",
            "_view_count": null,
            "_view_module": "@jupyter-widgets/controls",
            "_view_module_version": "1.5.0",
            "_view_name": "LabelView",
            "description": "",
            "description_tooltip": null,
            "layout": "IPY_MODEL_28848dcd3d50426896b7871f0c43db0e",
            "placeholder": "​",
            "style": "IPY_MODEL_509e8963a2bb439684a42c5c23003578",
            "value": "0.014 MB of 0.014 MB uploaded\r"
          }
        },
        "a66d4f296a3f454297f03c93f2038bd9": {
          "model_module": "@jupyter-widgets/controls",
          "model_module_version": "1.5.0",
          "model_name": "LabelModel",
          "state": {
            "_dom_classes": [],
            "_model_module": "@jupyter-widgets/controls",
            "_model_module_version": "1.5.0",
            "_model_name": "LabelModel",
            "_view_count": null,
            "_view_module": "@jupyter-widgets/controls",
            "_view_module_version": "1.5.0",
            "_view_name": "LabelView",
            "description": "",
            "description_tooltip": null,
            "layout": "IPY_MODEL_e715890b265d4533a04091875946d1ed",
            "placeholder": "​",
            "style": "IPY_MODEL_a9cc18aa7c2d4efb977ffd9da35e523b",
            "value": "0.010 MB of 0.010 MB uploaded\r"
          }
        },
        "a9cc18aa7c2d4efb977ffd9da35e523b": {
          "model_module": "@jupyter-widgets/controls",
          "model_module_version": "1.5.0",
          "model_name": "DescriptionStyleModel",
          "state": {
            "_model_module": "@jupyter-widgets/controls",
            "_model_module_version": "1.5.0",
            "_model_name": "DescriptionStyleModel",
            "_view_count": null,
            "_view_module": "@jupyter-widgets/base",
            "_view_module_version": "1.2.0",
            "_view_name": "StyleView",
            "description_width": ""
          }
        },
        "d71860f0e8f2495abc61dd6e0773a8a4": {
          "model_module": "@jupyter-widgets/controls",
          "model_module_version": "1.5.0",
          "model_name": "VBoxModel",
          "state": {
            "_dom_classes": [],
            "_model_module": "@jupyter-widgets/controls",
            "_model_module_version": "1.5.0",
            "_model_name": "VBoxModel",
            "_view_count": null,
            "_view_module": "@jupyter-widgets/controls",
            "_view_module_version": "1.5.0",
            "_view_name": "VBoxView",
            "box_style": "",
            "children": [
              "IPY_MODEL_709114c29c794f39a9d574e1ba162692",
              "IPY_MODEL_41f498cfc9c74e899a6df0d4e0be5d1f"
            ],
            "layout": "IPY_MODEL_2e1ca7bd57124487b1e97e1699842a4f"
          }
        },
        "dbe56cf138b349fab1b02f71e53cb858": {
          "model_module": "@jupyter-widgets/controls",
          "model_module_version": "1.5.0",
          "model_name": "FloatProgressModel",
          "state": {
            "_dom_classes": [],
            "_model_module": "@jupyter-widgets/controls",
            "_model_module_version": "1.5.0",
            "_model_name": "FloatProgressModel",
            "_view_count": null,
            "_view_module": "@jupyter-widgets/controls",
            "_view_module_version": "1.5.0",
            "_view_name": "ProgressView",
            "bar_style": "",
            "description": "",
            "description_tooltip": null,
            "layout": "IPY_MODEL_30af274bc85b4aa78562c912f7c8d068",
            "max": 1,
            "min": 0,
            "orientation": "horizontal",
            "style": "IPY_MODEL_5f75cdfd825f4cbca40aaec3b36468f6",
            "value": 1
          }
        },
        "e715890b265d4533a04091875946d1ed": {
          "model_module": "@jupyter-widgets/base",
          "model_module_version": "1.2.0",
          "model_name": "LayoutModel",
          "state": {
            "_model_module": "@jupyter-widgets/base",
            "_model_module_version": "1.2.0",
            "_model_name": "LayoutModel",
            "_view_count": null,
            "_view_module": "@jupyter-widgets/base",
            "_view_module_version": "1.2.0",
            "_view_name": "LayoutView",
            "align_content": null,
            "align_items": null,
            "align_self": null,
            "border": null,
            "bottom": null,
            "display": null,
            "flex": null,
            "flex_flow": null,
            "grid_area": null,
            "grid_auto_columns": null,
            "grid_auto_flow": null,
            "grid_auto_rows": null,
            "grid_column": null,
            "grid_gap": null,
            "grid_row": null,
            "grid_template_areas": null,
            "grid_template_columns": null,
            "grid_template_rows": null,
            "height": null,
            "justify_content": null,
            "justify_items": null,
            "left": null,
            "margin": null,
            "max_height": null,
            "max_width": null,
            "min_height": null,
            "min_width": null,
            "object_fit": null,
            "object_position": null,
            "order": null,
            "overflow": null,
            "overflow_x": null,
            "overflow_y": null,
            "padding": null,
            "right": null,
            "top": null,
            "visibility": null,
            "width": null
          }
        }
      }
    }
  },
  "nbformat": 4,
  "nbformat_minor": 0
}
