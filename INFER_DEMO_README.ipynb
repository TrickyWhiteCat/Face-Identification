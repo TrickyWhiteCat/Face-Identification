{
  "cells": [
    {
      "cell_type": "markdown",
      "metadata": {
        "id": "0ATfcxrTEk9T"
      },
      "source": [
        "- Dataset:  WIDERFACE Dataset   http://shuoyang1213.me/WIDERFACE/index.html\n",
        "WIDER FACE dataset is used for face detection. It includes 32,203 images with 393,703 labeled faces. These faces vary in scale, pose, and degree of concealment. The data is organized into 61 event types, divided into 40% for training, 10% for testing, and 50% for testing.\n",
        "- Model: Yolov5s with Train: 12880 images(40%), Val: 3226 images(10%), Test: (50%)\n",
        "    - Training (use cfg, weights null)\n",
        "        ```python\n",
        "        # Train từ scratch, để img 640, trước để 416\n",
        "        !python train.py --img 640 --batch 16 --epochs 10 \\\n",
        "        --data /content/drive/MyDrive/colab/custom_dataset/custom_dataset.yaml \\\n",
        "        --cfg /content/drive/MyDrive/colab/yolov5/models/yolov5s.yaml \\\n",
        "        --weights '' \\\n",
        "        --name facedet_widerface_cfgyolov5_colab --cache \\\n",
        "        --project Yolov5_FaceDetection\n",
        "\n",
        "        ```\n",
        "\n",
        "    - Processing Training is logged at Wandb, see: https://wandb.ai/doanngoccuong_nh/Yolov5_FaceDetection?workspace=user-doanngoccuong"
      ]
    },
    {
      "cell_type": "code",
      "execution_count": null,
      "metadata": {
        "colab": {
          "base_uri": "https://localhost:8080/",
          "height": 1000
        },
        "id": "gDGZ4TIQFQKh",
        "outputId": "9a9b40f5-b705-4955-ed9f-51520f237a61"
      },
      "outputs": [],
      "source": [
        "!git clone https://github.com/ultralytics/yolov5.git\n",
        "!cd yolov5 && pwd\n",
        "%cd yolov5\n",
        "!pip install -r requirements.txt"
      ]
    },
    {
      "cell_type": "code",
      "execution_count": null,
      "metadata": {
        "colab": {
          "base_uri": "https://localhost:8080/",
          "height": 714
        },
        "id": "5z5G0R6QE8Y3",
        "outputId": "af5ce392-fe05-419a-8159-0993f7141846"
      },
      "outputs": [],
      "source": [
        "# Load best_training model\n",
        "!pip install wandb\n",
        "import wandb\n",
        "run = wandb.init()\n",
        "artifact = run.use_artifact('doanngoccuong_nh/Yolov5_FaceDetection/run_y9gaafqy_model:v0', type='model')\n",
        "artifact_dir = artifact.download()\n",
        "print(artifact_dir)\n",
        "\n",
        "# My API: c8767797aae76cbcd389ff29929ace1ac3021161\n",
        "# link weights_best.pt: /content/yolov5/artifacts/run_y9gaafqy_model:v0/best.pt"
      ]
    },
    {
      "cell_type": "code",
      "execution_count": null,
      "metadata": {
        "colab": {
          "base_uri": "https://localhost:8080/",
          "height": 1000
        },
        "id": "asWImS_-GLzm",
        "outputId": "fac6faa6-275b-4d05-cbe5-363a8b4c3905"
      },
      "outputs": [],
      "source": [
        "# import file for test\n",
        "%mkdir /content/real_test\n",
        "%cd /content/real_test\n",
        "from google.colab import files\n",
        "files.upload()"
      ]
    },
    {
      "cell_type": "code",
      "execution_count": null,
      "metadata": {
        "colab": {
          "base_uri": "https://localhost:8080/"
        },
        "id": "H3uKdVOkF1C3",
        "outputId": "3218ddfb-d621-49b8-a142-9f2d9ba3773e"
      },
      "outputs": [],
      "source": [
        "# Infer real_test, optinonal:  --img 640 --save-txt --save-conf (resize, save txt, save confident)\n",
        "%cd /content/yolov5\n",
        "!python detect.py --source /content/real_test --weights /content/yolov5/artifacts/run_y9gaafqy_model:v0/best.pt  --save-txt --save-conf\n"
      ]
    },
    {
      "cell_type": "code",
      "execution_count": 14,
      "metadata": {
        "colab": {
          "base_uri": "https://localhost:8080/"
        },
        "id": "aKxBy0W1Kgda",
        "outputId": "628315a1-be86-4d7d-9eb0-a60fba873478"
      },
      "outputs": [
        {
          "name": "stdout",
          "output_type": "stream",
          "text": [
            "Cropping successful .ipynb_checkpoints\n",
            "Cropping successful FromHaiHai11012023.jpg\n",
            "Cropping successful Long.jpg\n",
            "Cropping successful Tú.jpg\n",
            "Cropping successful PhanNgocLanDSC01420.JPG\n",
            "Cropping successful TranLeMyLinh.jpg\n",
            "Cropping successful MinhTuan.jpg\n",
            "Cropping hoàn tất.\n"
          ]
        }
      ],
      "source": [
        "### Crop Detected Face: use face_img = image[y1:y2, x1:x2] = image[y_min:y_max, x_min:x_max]\n",
        "import os\n",
        "import cv2\n",
        "\n",
        "image_folder = '/content/real_test'\n",
        "labels_folder = '/content/yolov5/runs/detect/exp2/labels'\n",
        "output_folder = '/content/cropped_faces'\n",
        "os.makedirs(output_folder, exist_ok=True)\n",
        "\n",
        "# Lặp qua each image in image_folder\n",
        "for filename in os.listdir(image_folder):\n",
        "    if filename.endswith('.jpg') or filename.endswith('.png'):\n",
        "\n",
        "        # Read image from full path\n",
        "        path = os.path.join(image_folder, filename)\n",
        "        image = cv2.imread(path)\n",
        "\n",
        "        # Tên file txt tương ứng (cùng tên với ảnh)\n",
        "        txt_file = filename.replace('.jpg', '.txt').replace('.png', '.txt')\n",
        "\n",
        "        # Read file txt to get tọa độ bounding boxes\n",
        "        with open(os.path.join(labels_folder, txt_file), 'r') as file:\n",
        "            lines = file.readlines()\n",
        "            for i, line in enumerate(lines):\n",
        "                _, x_center, y_center, width, height = map(float, line.split()[:5])\n",
        "                # Tình toán lại tọa độ bounding box theo kích thước ảnh gốc (unnormalize)\n",
        "                x_center, width = x_center * image.shape[1], width * image.shape[1]\n",
        "                y_center, height = y_center * image.shape[0], height * image.shape[0]\n",
        "                # chuyển tọa độ bounding box sang x1, y1, x2, y2 (x1, y1 là góc trên bên trái, x2, y2 là góc dưới bên phải) or x_min, y_min, x_max, y_max\n",
        "                x_min, y_min, x_max, y_max = int(x_center - width / 2), int(y_center - height / 2), int(x_center + width / 2), int(y_center + height / 2)\n",
        "\n",
        "                # Crop và lưu ảnh khuôn mặt\n",
        "                face_img = image[y_min:y_max, x_min:x_max] # image[y1:y2, x1:x2]\n",
        "                cv2.imwrite(os.path.join(output_folder, f'{filename[:-4]}_face_{i}.jpg'), face_img)\n",
        "        print(f\"Cropping successful {filename}\")\n",
        "print(\"Cropping hoàn tất.\")\n"
      ]
    }
  ],
  "metadata": {
    "colab": {
      "provenance": []
    },
    "kernelspec": {
      "display_name": "Python 3",
      "name": "python3"
    },
    "language_info": {
      "name": "python"
    }
  },
  "nbformat": 4,
  "nbformat_minor": 0
}
